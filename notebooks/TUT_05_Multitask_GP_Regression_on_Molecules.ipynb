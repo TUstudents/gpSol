{
  "cells": [
    {
      "cell_type": "markdown",
      "metadata": {
        "colab_type": "text",
        "id": "view-in-github"
      },
      "source": [
        "<a href=\"https://colab.research.google.com/github/TUstudents/gpSol/blob/main/notebooks/TUT_05_Multitask_GP_Regression_on_Molecules.ipynb\" target=\"_parent\"><img src=\"https://colab.research.google.com/assets/colab-badge.svg\" alt=\"Open In Colab\"/></a>"
      ]
    },
    {
      "cell_type": "markdown",
      "id": "xe2QFkklXqNo",
      "metadata": {
        "id": "xe2QFkklXqNo"
      },
      "source": [
        "# Google Colab setup"
      ]
    },
    {
      "cell_type": "code",
      "execution_count": 1,
      "id": "zoPOuLi_QL6C",
      "metadata": {
        "colab": {
          "base_uri": "https://localhost:8080/"
        },
        "id": "zoPOuLi_QL6C",
        "outputId": "b36f2be0-70c1-4fb6-e13d-25e5de50ba7f"
      },
      "outputs": [
        {
          "name": "stdout",
          "output_type": "stream",
          "text": [
            "Drive already mounted at /content/gdrive/; to attempt to forcibly remount, call drive.mount(\"/content/gdrive/\", force_remount=True).\n"
          ]
        }
      ],
      "source": [
        "from google.colab import drive\n",
        "drive.mount('/content/gdrive/')"
      ]
    },
    {
      "cell_type": "code",
      "execution_count": 2,
      "id": "8B89JhQaR4Nj",
      "metadata": {
        "colab": {
          "base_uri": "https://localhost:8080/"
        },
        "id": "8B89JhQaR4Nj",
        "outputId": "6aad04e4-f7bc-4806-fcc5-14b1b1aa7223"
      },
      "outputs": [
        {
          "name": "stdout",
          "output_type": "stream",
          "text": [
            "In colab!\n",
            "Cloning into 'gauche'...\n",
            "remote: Enumerating objects: 2374, done.\u001b[K\n",
            "remote: Counting objects: 100% (663/663), done.\u001b[K\n",
            "remote: Compressing objects: 100% (210/210), done.\u001b[K\n",
            "remote: Total 2374 (delta 499), reused 478 (delta 453), pack-reused 1711\u001b[K\n",
            "Receiving objects: 100% (2374/2374), 35.98 MiB | 27.01 MiB/s, done.\n",
            "Resolving deltas: 100% (1341/1341), done.\n",
            "Requirement already satisfied: rxnfp in /usr/local/lib/python3.10/dist-packages (0.1.0)\n",
            "Requirement already satisfied: drfp in /usr/local/lib/python3.10/dist-packages (0.3.6)\n",
            "Requirement already satisfied: faerun in /usr/local/lib/python3.10/dist-packages (0.4.7)\n",
            "Requirement already satisfied: mordredcommunity in /usr/local/lib/python3.10/dist-packages (2.0.5)\n",
            "Requirement already satisfied: matplotlib>=3.0.2 in /usr/local/lib/python3.10/dist-packages (from faerun) (3.7.1)\n",
            "Requirement already satisfied: Jinja2>=2.10 in /usr/local/lib/python3.10/dist-packages (from faerun) (3.1.3)\n",
            "Requirement already satisfied: ujson>=1.35 in /usr/local/lib/python3.10/dist-packages (from faerun) (5.9.0)\n",
            "Requirement already satisfied: numpy>=1.15.4 in /usr/local/lib/python3.10/dist-packages (from faerun) (1.23.5)\n",
            "Requirement already satisfied: colour>=0.1.5 in /usr/local/lib/python3.10/dist-packages (from faerun) (0.1.5)\n",
            "Requirement already satisfied: CherryPy>=18.1.0 in /usr/local/lib/python3.10/dist-packages (from faerun) (18.9.0)\n",
            "Requirement already satisfied: pandas>=0.24.2 in /usr/local/lib/python3.10/dist-packages (from faerun) (1.5.3)\n",
            "Requirement already satisfied: rdkit in /usr/local/lib/python3.10/dist-packages (from mordredcommunity) (2023.9.5)\n",
            "Requirement already satisfied: six in /usr/local/lib/python3.10/dist-packages (from mordredcommunity) (1.16.0)\n",
            "Requirement already satisfied: networkx in /usr/local/lib/python3.10/dist-packages (from mordredcommunity) (3.2.1)\n",
            "Requirement already satisfied: packaging in /usr/local/lib/python3.10/dist-packages (from mordredcommunity) (23.2)\n",
            "Requirement already satisfied: cheroot>=8.2.1 in /usr/local/lib/python3.10/dist-packages (from CherryPy>=18.1.0->faerun) (10.0.0)\n",
            "Requirement already satisfied: portend>=2.1.1 in /usr/local/lib/python3.10/dist-packages (from CherryPy>=18.1.0->faerun) (3.2.0)\n",
            "Requirement already satisfied: more-itertools in /usr/local/lib/python3.10/dist-packages (from CherryPy>=18.1.0->faerun) (10.1.0)\n",
            "Requirement already satisfied: zc.lockfile in /usr/local/lib/python3.10/dist-packages (from CherryPy>=18.1.0->faerun) (3.0.post1)\n",
            "Requirement already satisfied: jaraco.collections in /usr/local/lib/python3.10/dist-packages (from CherryPy>=18.1.0->faerun) (5.0.0)\n",
            "Requirement already satisfied: MarkupSafe>=2.0 in /usr/local/lib/python3.10/dist-packages (from Jinja2>=2.10->faerun) (2.1.5)\n",
            "Requirement already satisfied: contourpy>=1.0.1 in /usr/local/lib/python3.10/dist-packages (from matplotlib>=3.0.2->faerun) (1.2.0)\n",
            "Requirement already satisfied: cycler>=0.10 in /usr/local/lib/python3.10/dist-packages (from matplotlib>=3.0.2->faerun) (0.12.1)\n",
            "Requirement already satisfied: fonttools>=4.22.0 in /usr/local/lib/python3.10/dist-packages (from matplotlib>=3.0.2->faerun) (4.49.0)\n",
            "Requirement already satisfied: kiwisolver>=1.0.1 in /usr/local/lib/python3.10/dist-packages (from matplotlib>=3.0.2->faerun) (1.4.5)\n",
            "Requirement already satisfied: pillow>=6.2.0 in /usr/local/lib/python3.10/dist-packages (from matplotlib>=3.0.2->faerun) (9.4.0)\n",
            "Requirement already satisfied: pyparsing>=2.3.1 in /usr/local/lib/python3.10/dist-packages (from matplotlib>=3.0.2->faerun) (3.1.2)\n",
            "Requirement already satisfied: python-dateutil>=2.7 in /usr/local/lib/python3.10/dist-packages (from matplotlib>=3.0.2->faerun) (2.8.2)\n",
            "Requirement already satisfied: pytz>=2020.1 in /usr/local/lib/python3.10/dist-packages (from pandas>=0.24.2->faerun) (2023.4)\n",
            "Requirement already satisfied: jaraco.functools in /usr/local/lib/python3.10/dist-packages (from cheroot>=8.2.1->CherryPy>=18.1.0->faerun) (4.0.0)\n",
            "Requirement already satisfied: tempora>=1.8 in /usr/local/lib/python3.10/dist-packages (from portend>=2.1.1->CherryPy>=18.1.0->faerun) (5.5.1)\n",
            "Requirement already satisfied: jaraco.text in /usr/local/lib/python3.10/dist-packages (from jaraco.collections->CherryPy>=18.1.0->faerun) (3.12.0)\n",
            "Requirement already satisfied: setuptools in /usr/local/lib/python3.10/dist-packages (from zc.lockfile->CherryPy>=18.1.0->faerun) (67.7.2)\n",
            "Requirement already satisfied: jaraco.context>=4.1 in /usr/local/lib/python3.10/dist-packages (from jaraco.text->jaraco.collections->CherryPy>=18.1.0->faerun) (4.3.0)\n",
            "Requirement already satisfied: autocommand in /usr/local/lib/python3.10/dist-packages (from jaraco.text->jaraco.collections->CherryPy>=18.1.0->faerun) (2.2.2)\n",
            "Requirement already satisfied: inflect in /usr/local/lib/python3.10/dist-packages (from jaraco.text->jaraco.collections->CherryPy>=18.1.0->faerun) (7.0.0)\n",
            "Requirement already satisfied: pydantic>=1.9.1 in /usr/local/lib/python3.10/dist-packages (from inflect->jaraco.text->jaraco.collections->CherryPy>=18.1.0->faerun) (1.10.14)\n",
            "Requirement already satisfied: typing-extensions in /usr/local/lib/python3.10/dist-packages (from inflect->jaraco.text->jaraco.collections->CherryPy>=18.1.0->faerun) (4.5.0)\n"
          ]
        }
      ],
      "source": [
        "import sys\n",
        "if 'google.colab' in sys.modules:\n",
        "    print('In colab!')\n",
        "    ! rm -rf gauche\n",
        "    !git clone https://github.com/leojklarner/gauche\n",
        "    sys.path.insert(0,'gpSol')\n",
        "    !pip install rxnfp --no-deps\n",
        "    !pip install --no-deps drfp\n",
        "    !pip install faerun mordredcommunity"
      ]
    },
    {
      "cell_type": "code",
      "execution_count": 3,
      "id": "wNRqZNj7S8Jg",
      "metadata": {
        "colab": {
          "base_uri": "https://localhost:8080/"
        },
        "id": "wNRqZNj7S8Jg",
        "outputId": "e254b239-9225-45da-9fb1-73258bf22ff0"
      },
      "outputs": [
        {
          "name": "stdout",
          "output_type": "stream",
          "text": [
            "Requirement already satisfied: gauche[graphs] in /usr/local/lib/python3.10/dist-packages (0.1.6)\n",
            "Requirement already satisfied: numpy in /usr/local/lib/python3.10/dist-packages (from gauche[graphs]) (1.23.5)\n",
            "Requirement already satisfied: pandas in /usr/local/lib/python3.10/dist-packages (from gauche[graphs]) (1.5.3)\n",
            "Requirement already satisfied: scikit-learn in /usr/local/lib/python3.10/dist-packages (from gauche[graphs]) (1.2.2)\n",
            "Requirement already satisfied: scipy in /usr/local/lib/python3.10/dist-packages (from gauche[graphs]) (1.11.4)\n",
            "Requirement already satisfied: matplotlib in /usr/local/lib/python3.10/dist-packages (from gauche[graphs]) (3.7.1)\n",
            "Requirement already satisfied: seaborn in /usr/local/lib/python3.10/dist-packages (from gauche[graphs]) (0.13.1)\n",
            "Requirement already satisfied: jupyterlab in /usr/local/lib/python3.10/dist-packages (from gauche[graphs]) (4.1.4)\n",
            "Requirement already satisfied: ipykernel in /usr/local/lib/python3.10/dist-packages (from gauche[graphs]) (5.5.6)\n",
            "Requirement already satisfied: rdkit in /usr/local/lib/python3.10/dist-packages (from gauche[graphs]) (2023.9.5)\n",
            "Requirement already satisfied: tqdm in /usr/local/lib/python3.10/dist-packages (from gauche[graphs]) (4.66.2)\n",
            "Requirement already satisfied: selfies in /usr/local/lib/python3.10/dist-packages (from gauche[graphs]) (2.1.1)\n",
            "Requirement already satisfied: torch in /usr/local/lib/python3.10/dist-packages (from gauche[graphs]) (2.1.0+cu121)\n",
            "Requirement already satisfied: gpytorch in /usr/local/lib/python3.10/dist-packages (from gauche[graphs]) (1.11)\n",
            "Requirement already satisfied: botorch in /usr/local/lib/python3.10/dist-packages (from gauche[graphs]) (0.10.0)\n",
            "Requirement already satisfied: graphein in /usr/local/lib/python3.10/dist-packages (from gauche[graphs]) (1.7.6)\n",
            "Requirement already satisfied: grakel in /usr/local/lib/python3.10/dist-packages (from gauche[graphs]) (0.1.10)\n",
            "Requirement already satisfied: multipledispatch in /usr/local/lib/python3.10/dist-packages (from botorch->gauche[graphs]) (1.0.0)\n",
            "Requirement already satisfied: mpmath<=1.3,>=0.19 in /usr/local/lib/python3.10/dist-packages (from botorch->gauche[graphs]) (1.3.0)\n",
            "Requirement already satisfied: pyro-ppl>=1.8.4 in /usr/local/lib/python3.10/dist-packages (from botorch->gauche[graphs]) (1.9.0)\n",
            "Requirement already satisfied: linear-operator==0.5.1 in /usr/local/lib/python3.10/dist-packages (from botorch->gauche[graphs]) (0.5.1)\n",
            "Requirement already satisfied: jaxtyping>=0.2.9 in /usr/local/lib/python3.10/dist-packages (from linear-operator==0.5.1->botorch->gauche[graphs]) (0.2.28)\n",
            "Requirement already satisfied: typeguard~=2.13.3 in /usr/local/lib/python3.10/dist-packages (from linear-operator==0.5.1->botorch->gauche[graphs]) (2.13.3)\n",
            "Requirement already satisfied: filelock in /usr/local/lib/python3.10/dist-packages (from torch->gauche[graphs]) (3.13.1)\n",
            "Requirement already satisfied: typing-extensions in /usr/local/lib/python3.10/dist-packages (from torch->gauche[graphs]) (4.5.0)\n",
            "Requirement already satisfied: sympy in /usr/local/lib/python3.10/dist-packages (from torch->gauche[graphs]) (1.12)\n",
            "Requirement already satisfied: networkx in /usr/local/lib/python3.10/dist-packages (from torch->gauche[graphs]) (3.2.1)\n",
            "Requirement already satisfied: jinja2 in /usr/local/lib/python3.10/dist-packages (from torch->gauche[graphs]) (3.1.3)\n",
            "Requirement already satisfied: fsspec in /usr/local/lib/python3.10/dist-packages (from torch->gauche[graphs]) (2023.6.0)\n",
            "Requirement already satisfied: triton==2.1.0 in /usr/local/lib/python3.10/dist-packages (from torch->gauche[graphs]) (2.1.0)\n",
            "Requirement already satisfied: cython>=0.27.3 in /usr/local/lib/python3.10/dist-packages (from grakel->gauche[graphs]) (3.0.9)\n",
            "Requirement already satisfied: six>=1.11.0 in /usr/local/lib/python3.10/dist-packages (from grakel->gauche[graphs]) (1.16.0)\n",
            "Requirement already satisfied: future>=0.16.0 in /usr/local/lib/python3.10/dist-packages (from grakel->gauche[graphs]) (0.18.3)\n",
            "Requirement already satisfied: joblib in /usr/local/lib/python3.10/dist-packages (from grakel->gauche[graphs]) (1.3.2)\n",
            "Requirement already satisfied: threadpoolctl>=2.0.0 in /usr/local/lib/python3.10/dist-packages (from scikit-learn->gauche[graphs]) (3.3.0)\n",
            "Requirement already satisfied: biopandas>=0.5.0.dev0 in /usr/local/lib/python3.10/dist-packages (from graphein->gauche[graphs]) (0.5.1.dev0)\n",
            "Requirement already satisfied: biopython in /usr/local/lib/python3.10/dist-packages (from graphein->gauche[graphs]) (1.83)\n",
            "Requirement already satisfied: bioservices>=1.10.0 in /usr/local/lib/python3.10/dist-packages (from graphein->gauche[graphs]) (1.11.2)\n",
            "Requirement already satisfied: deepdiff in /usr/local/lib/python3.10/dist-packages (from graphein->gauche[graphs]) (6.7.1)\n",
            "Requirement already satisfied: loguru in /usr/local/lib/python3.10/dist-packages (from graphein->gauche[graphs]) (0.7.2)\n",
            "Requirement already satisfied: looseversion in /usr/local/lib/python3.10/dist-packages (from graphein->gauche[graphs]) (1.1.2)\n",
            "Requirement already satisfied: plotly in /usr/local/lib/python3.10/dist-packages (from graphein->gauche[graphs]) (5.15.0)\n",
            "Requirement already satisfied: pydantic in /usr/local/lib/python3.10/dist-packages (from graphein->gauche[graphs]) (1.10.14)\n",
            "Requirement already satisfied: rich in /usr/local/lib/python3.10/dist-packages (from graphein->gauche[graphs]) (13.7.1)\n",
            "Requirement already satisfied: rich-click in /usr/local/lib/python3.10/dist-packages (from graphein->gauche[graphs]) (1.7.4)\n",
            "Requirement already satisfied: pyyaml!=5.4.0,!=5.4.1,!=6.0.0 in /usr/local/lib/python3.10/dist-packages (from graphein->gauche[graphs]) (6.0.1)\n",
            "Requirement already satisfied: wget in /usr/local/lib/python3.10/dist-packages (from graphein->gauche[graphs]) (3.2)\n",
            "Requirement already satisfied: xarray in /usr/local/lib/python3.10/dist-packages (from graphein->gauche[graphs]) (2023.7.0)\n",
            "Requirement already satisfied: contourpy>=1.0.1 in /usr/local/lib/python3.10/dist-packages (from matplotlib->gauche[graphs]) (1.2.0)\n",
            "Requirement already satisfied: cycler>=0.10 in /usr/local/lib/python3.10/dist-packages (from matplotlib->gauche[graphs]) (0.12.1)\n",
            "Requirement already satisfied: fonttools>=4.22.0 in /usr/local/lib/python3.10/dist-packages (from matplotlib->gauche[graphs]) (4.49.0)\n",
            "Requirement already satisfied: kiwisolver>=1.0.1 in /usr/local/lib/python3.10/dist-packages (from matplotlib->gauche[graphs]) (1.4.5)\n",
            "Requirement already satisfied: packaging>=20.0 in /usr/local/lib/python3.10/dist-packages (from matplotlib->gauche[graphs]) (23.2)\n",
            "Requirement already satisfied: pillow>=6.2.0 in /usr/local/lib/python3.10/dist-packages (from matplotlib->gauche[graphs]) (9.4.0)\n",
            "Requirement already satisfied: pyparsing>=2.3.1 in /usr/local/lib/python3.10/dist-packages (from matplotlib->gauche[graphs]) (3.1.2)\n",
            "Requirement already satisfied: python-dateutil>=2.7 in /usr/local/lib/python3.10/dist-packages (from matplotlib->gauche[graphs]) (2.8.2)\n",
            "Requirement already satisfied: pytz>=2020.1 in /usr/local/lib/python3.10/dist-packages (from pandas->gauche[graphs]) (2023.4)\n",
            "Requirement already satisfied: ipython-genutils in /usr/local/lib/python3.10/dist-packages (from ipykernel->gauche[graphs]) (0.2.0)\n",
            "Requirement already satisfied: ipython>=5.0.0 in /usr/local/lib/python3.10/dist-packages (from ipykernel->gauche[graphs]) (7.34.0)\n",
            "Requirement already satisfied: traitlets>=4.1.0 in /usr/local/lib/python3.10/dist-packages (from ipykernel->gauche[graphs]) (5.7.1)\n",
            "Requirement already satisfied: jupyter-client in /usr/local/lib/python3.10/dist-packages (from ipykernel->gauche[graphs]) (8.6.1)\n",
            "Requirement already satisfied: tornado>=4.2 in /usr/local/lib/python3.10/dist-packages (from ipykernel->gauche[graphs]) (6.3.3)\n",
            "Requirement already satisfied: async-lru>=1.0.0 in /usr/local/lib/python3.10/dist-packages (from jupyterlab->gauche[graphs]) (2.0.4)\n",
            "Requirement already satisfied: httpx>=0.25.0 in /usr/local/lib/python3.10/dist-packages (from jupyterlab->gauche[graphs]) (0.27.0)\n",
            "Requirement already satisfied: jupyter-core in /usr/local/lib/python3.10/dist-packages (from jupyterlab->gauche[graphs]) (5.7.1)\n",
            "Requirement already satisfied: jupyter-lsp>=2.0.0 in /usr/local/lib/python3.10/dist-packages (from jupyterlab->gauche[graphs]) (2.2.4)\n",
            "Requirement already satisfied: jupyter-server<3,>=2.4.0 in /usr/local/lib/python3.10/dist-packages (from jupyterlab->gauche[graphs]) (2.13.0)\n",
            "Requirement already satisfied: jupyterlab-server<3,>=2.19.0 in /usr/local/lib/python3.10/dist-packages (from jupyterlab->gauche[graphs]) (2.25.4)\n",
            "Requirement already satisfied: notebook-shim>=0.2 in /usr/local/lib/python3.10/dist-packages (from jupyterlab->gauche[graphs]) (0.2.4)\n",
            "Requirement already satisfied: tomli in /usr/local/lib/python3.10/dist-packages (from jupyterlab->gauche[graphs]) (2.0.1)\n",
            "Requirement already satisfied: mmtf-python==1.1.3 in /usr/local/lib/python3.10/dist-packages (from biopandas>=0.5.0.dev0->graphein->gauche[graphs]) (1.1.3)\n",
            "Requirement already satisfied: setuptools in /usr/local/lib/python3.10/dist-packages (from biopandas>=0.5.0.dev0->graphein->gauche[graphs]) (67.7.2)\n",
            "Requirement already satisfied: msgpack>=1.0.0 in /usr/local/lib/python3.10/dist-packages (from mmtf-python==1.1.3->biopandas>=0.5.0.dev0->graphein->gauche[graphs]) (1.0.8)\n",
            "Requirement already satisfied: appdirs in /usr/local/lib/python3.10/dist-packages (from bioservices>=1.10.0->graphein->gauche[graphs]) (1.4.4)\n",
            "Requirement already satisfied: beautifulsoup4 in /usr/local/lib/python3.10/dist-packages (from bioservices>=1.10.0->graphein->gauche[graphs]) (4.12.3)\n",
            "Requirement already satisfied: colorlog in /usr/local/lib/python3.10/dist-packages (from bioservices>=1.10.0->graphein->gauche[graphs]) (6.8.2)\n",
            "Requirement already satisfied: easydev>=0.12.0 in /usr/local/lib/python3.10/dist-packages (from bioservices>=1.10.0->graphein->gauche[graphs]) (0.13.1)\n",
            "Requirement already satisfied: grequests in /usr/local/lib/python3.10/dist-packages (from bioservices>=1.10.0->graphein->gauche[graphs]) (0.7.0)\n",
            "Requirement already satisfied: requests in /usr/local/lib/python3.10/dist-packages (from bioservices>=1.10.0->graphein->gauche[graphs]) (2.31.0)\n",
            "Requirement already satisfied: requests-cache in /usr/local/lib/python3.10/dist-packages (from bioservices>=1.10.0->graphein->gauche[graphs]) (1.2.0)\n",
            "Requirement already satisfied: suds-community>=0.7 in /usr/local/lib/python3.10/dist-packages (from bioservices>=1.10.0->graphein->gauche[graphs]) (1.1.2)\n",
            "Requirement already satisfied: lxml in /usr/local/lib/python3.10/dist-packages (from bioservices>=1.10.0->graphein->gauche[graphs]) (4.9.4)\n",
            "Requirement already satisfied: wrapt in /usr/local/lib/python3.10/dist-packages (from bioservices>=1.10.0->graphein->gauche[graphs]) (1.14.1)\n",
            "Requirement already satisfied: xmltodict in /usr/local/lib/python3.10/dist-packages (from bioservices>=1.10.0->graphein->gauche[graphs]) (0.13.0)\n",
            "Requirement already satisfied: anyio in /usr/local/lib/python3.10/dist-packages (from httpx>=0.25.0->jupyterlab->gauche[graphs]) (3.7.1)\n",
            "Requirement already satisfied: certifi in /usr/local/lib/python3.10/dist-packages (from httpx>=0.25.0->jupyterlab->gauche[graphs]) (2024.2.2)\n",
            "Requirement already satisfied: httpcore==1.* in /usr/local/lib/python3.10/dist-packages (from httpx>=0.25.0->jupyterlab->gauche[graphs]) (1.0.4)\n",
            "Requirement already satisfied: idna in /usr/local/lib/python3.10/dist-packages (from httpx>=0.25.0->jupyterlab->gauche[graphs]) (3.6)\n",
            "Requirement already satisfied: sniffio in /usr/local/lib/python3.10/dist-packages (from httpx>=0.25.0->jupyterlab->gauche[graphs]) (1.3.1)\n",
            "Requirement already satisfied: h11<0.15,>=0.13 in /usr/local/lib/python3.10/dist-packages (from httpcore==1.*->httpx>=0.25.0->jupyterlab->gauche[graphs]) (0.14.0)\n",
            "Requirement already satisfied: jedi>=0.16 in /usr/local/lib/python3.10/dist-packages (from ipython>=5.0.0->ipykernel->gauche[graphs]) (0.19.1)\n",
            "Requirement already satisfied: decorator in /usr/local/lib/python3.10/dist-packages (from ipython>=5.0.0->ipykernel->gauche[graphs]) (4.4.2)\n",
            "Requirement already satisfied: pickleshare in /usr/local/lib/python3.10/dist-packages (from ipython>=5.0.0->ipykernel->gauche[graphs]) (0.7.5)\n",
            "Requirement already satisfied: prompt-toolkit!=3.0.0,!=3.0.1,<3.1.0,>=2.0.0 in /usr/local/lib/python3.10/dist-packages (from ipython>=5.0.0->ipykernel->gauche[graphs]) (3.0.43)\n",
            "Requirement already satisfied: pygments in /usr/local/lib/python3.10/dist-packages (from ipython>=5.0.0->ipykernel->gauche[graphs]) (2.16.1)\n",
            "Requirement already satisfied: backcall in /usr/local/lib/python3.10/dist-packages (from ipython>=5.0.0->ipykernel->gauche[graphs]) (0.2.0)\n",
            "Requirement already satisfied: matplotlib-inline in /usr/local/lib/python3.10/dist-packages (from ipython>=5.0.0->ipykernel->gauche[graphs]) (0.1.6)\n",
            "Requirement already satisfied: pexpect>4.3 in /usr/local/lib/python3.10/dist-packages (from ipython>=5.0.0->ipykernel->gauche[graphs]) (4.9.0)\n",
            "Requirement already satisfied: MarkupSafe>=2.0 in /usr/local/lib/python3.10/dist-packages (from jinja2->torch->gauche[graphs]) (2.1.5)\n",
            "Requirement already satisfied: argon2-cffi in /usr/local/lib/python3.10/dist-packages (from jupyter-server<3,>=2.4.0->jupyterlab->gauche[graphs]) (23.1.0)\n",
            "Requirement already satisfied: jupyter-events>=0.9.0 in /usr/local/lib/python3.10/dist-packages (from jupyter-server<3,>=2.4.0->jupyterlab->gauche[graphs]) (0.9.1)\n",
            "Requirement already satisfied: jupyter-server-terminals in /usr/local/lib/python3.10/dist-packages (from jupyter-server<3,>=2.4.0->jupyterlab->gauche[graphs]) (0.5.3)\n",
            "Requirement already satisfied: nbconvert>=6.4.4 in /usr/local/lib/python3.10/dist-packages (from jupyter-server<3,>=2.4.0->jupyterlab->gauche[graphs]) (6.5.4)\n",
            "Requirement already satisfied: nbformat>=5.3.0 in /usr/local/lib/python3.10/dist-packages (from jupyter-server<3,>=2.4.0->jupyterlab->gauche[graphs]) (5.9.2)\n",
            "Requirement already satisfied: overrides in /usr/local/lib/python3.10/dist-packages (from jupyter-server<3,>=2.4.0->jupyterlab->gauche[graphs]) (7.7.0)\n",
            "Requirement already satisfied: prometheus-client in /usr/local/lib/python3.10/dist-packages (from jupyter-server<3,>=2.4.0->jupyterlab->gauche[graphs]) (0.20.0)\n",
            "Requirement already satisfied: pyzmq>=24 in /usr/local/lib/python3.10/dist-packages (from jupyter-server<3,>=2.4.0->jupyterlab->gauche[graphs]) (25.1.2)\n",
            "Requirement already satisfied: send2trash>=1.8.2 in /usr/local/lib/python3.10/dist-packages (from jupyter-server<3,>=2.4.0->jupyterlab->gauche[graphs]) (1.8.2)\n",
            "Requirement already satisfied: terminado>=0.8.3 in /usr/local/lib/python3.10/dist-packages (from jupyter-server<3,>=2.4.0->jupyterlab->gauche[graphs]) (0.18.0)\n",
            "Requirement already satisfied: websocket-client in /usr/local/lib/python3.10/dist-packages (from jupyter-server<3,>=2.4.0->jupyterlab->gauche[graphs]) (1.7.0)\n",
            "Requirement already satisfied: platformdirs>=2.5 in /usr/local/lib/python3.10/dist-packages (from jupyter-core->jupyterlab->gauche[graphs]) (4.2.0)\n",
            "Requirement already satisfied: babel>=2.10 in /usr/local/lib/python3.10/dist-packages (from jupyterlab-server<3,>=2.19.0->jupyterlab->gauche[graphs]) (2.14.0)\n",
            "Requirement already satisfied: json5>=0.9.0 in /usr/local/lib/python3.10/dist-packages (from jupyterlab-server<3,>=2.19.0->jupyterlab->gauche[graphs]) (0.9.22)\n",
            "Requirement already satisfied: jsonschema>=4.18.0 in /usr/local/lib/python3.10/dist-packages (from jupyterlab-server<3,>=2.19.0->jupyterlab->gauche[graphs]) (4.19.2)\n",
            "Requirement already satisfied: opt-einsum>=2.3.2 in /usr/local/lib/python3.10/dist-packages (from pyro-ppl>=1.8.4->botorch->gauche[graphs]) (3.3.0)\n",
            "Requirement already satisfied: pyro-api>=0.1.1 in /usr/local/lib/python3.10/dist-packages (from pyro-ppl>=1.8.4->botorch->gauche[graphs]) (0.1.2)\n",
            "Requirement already satisfied: ordered-set<4.2.0,>=4.0.2 in /usr/local/lib/python3.10/dist-packages (from deepdiff->graphein->gauche[graphs]) (4.1.0)\n",
            "Requirement already satisfied: tenacity>=6.2.0 in /usr/local/lib/python3.10/dist-packages (from plotly->graphein->gauche[graphs]) (8.2.3)\n",
            "Requirement already satisfied: markdown-it-py>=2.2.0 in /usr/local/lib/python3.10/dist-packages (from rich->graphein->gauche[graphs]) (3.0.0)\n",
            "Requirement already satisfied: click>=7 in /usr/local/lib/python3.10/dist-packages (from rich-click->graphein->gauche[graphs]) (8.1.7)\n",
            "Requirement already satisfied: exceptiongroup in /usr/local/lib/python3.10/dist-packages (from anyio->httpx>=0.25.0->jupyterlab->gauche[graphs]) (1.2.0)\n",
            "Requirement already satisfied: colorama<0.5.0,>=0.4.6 in /usr/local/lib/python3.10/dist-packages (from easydev>=0.12.0->bioservices>=1.10.0->graphein->gauche[graphs]) (0.4.6)\n",
            "Requirement already satisfied: line-profiler<5.0.0,>=4.1.2 in /usr/local/lib/python3.10/dist-packages (from easydev>=0.12.0->bioservices>=1.10.0->graphein->gauche[graphs]) (4.1.2)\n",
            "Requirement already satisfied: parso<0.9.0,>=0.8.3 in /usr/local/lib/python3.10/dist-packages (from jedi>=0.16->ipython>=5.0.0->ipykernel->gauche[graphs]) (0.8.3)\n",
            "Requirement already satisfied: attrs>=22.2.0 in /usr/local/lib/python3.10/dist-packages (from jsonschema>=4.18.0->jupyterlab-server<3,>=2.19.0->jupyterlab->gauche[graphs]) (23.2.0)\n",
            "Requirement already satisfied: jsonschema-specifications>=2023.03.6 in /usr/local/lib/python3.10/dist-packages (from jsonschema>=4.18.0->jupyterlab-server<3,>=2.19.0->jupyterlab->gauche[graphs]) (2023.12.1)\n",
            "Requirement already satisfied: referencing>=0.28.4 in /usr/local/lib/python3.10/dist-packages (from jsonschema>=4.18.0->jupyterlab-server<3,>=2.19.0->jupyterlab->gauche[graphs]) (0.33.0)\n",
            "Requirement already satisfied: rpds-py>=0.7.1 in /usr/local/lib/python3.10/dist-packages (from jsonschema>=4.18.0->jupyterlab-server<3,>=2.19.0->jupyterlab->gauche[graphs]) (0.18.0)\n",
            "Requirement already satisfied: python-json-logger>=2.0.4 in /usr/local/lib/python3.10/dist-packages (from jupyter-events>=0.9.0->jupyter-server<3,>=2.4.0->jupyterlab->gauche[graphs]) (2.0.7)\n",
            "Requirement already satisfied: rfc3339-validator in /usr/local/lib/python3.10/dist-packages (from jupyter-events>=0.9.0->jupyter-server<3,>=2.4.0->jupyterlab->gauche[graphs]) (0.1.4)\n",
            "Requirement already satisfied: rfc3986-validator>=0.1.1 in /usr/local/lib/python3.10/dist-packages (from jupyter-events>=0.9.0->jupyter-server<3,>=2.4.0->jupyterlab->gauche[graphs]) (0.1.1)\n",
            "Requirement already satisfied: mdurl~=0.1 in /usr/local/lib/python3.10/dist-packages (from markdown-it-py>=2.2.0->rich->graphein->gauche[graphs]) (0.1.2)\n",
            "Requirement already satisfied: bleach in /usr/local/lib/python3.10/dist-packages (from nbconvert>=6.4.4->jupyter-server<3,>=2.4.0->jupyterlab->gauche[graphs]) (6.1.0)\n",
            "Requirement already satisfied: defusedxml in /usr/local/lib/python3.10/dist-packages (from nbconvert>=6.4.4->jupyter-server<3,>=2.4.0->jupyterlab->gauche[graphs]) (0.7.1)\n",
            "Requirement already satisfied: entrypoints>=0.2.2 in /usr/local/lib/python3.10/dist-packages (from nbconvert>=6.4.4->jupyter-server<3,>=2.4.0->jupyterlab->gauche[graphs]) (0.4)\n",
            "Requirement already satisfied: jupyterlab-pygments in /usr/local/lib/python3.10/dist-packages (from nbconvert>=6.4.4->jupyter-server<3,>=2.4.0->jupyterlab->gauche[graphs]) (0.3.0)\n",
            "Requirement already satisfied: mistune<2,>=0.8.1 in /usr/local/lib/python3.10/dist-packages (from nbconvert>=6.4.4->jupyter-server<3,>=2.4.0->jupyterlab->gauche[graphs]) (0.8.4)\n",
            "Requirement already satisfied: nbclient>=0.5.0 in /usr/local/lib/python3.10/dist-packages (from nbconvert>=6.4.4->jupyter-server<3,>=2.4.0->jupyterlab->gauche[graphs]) (0.9.0)\n",
            "Requirement already satisfied: pandocfilters>=1.4.1 in /usr/local/lib/python3.10/dist-packages (from nbconvert>=6.4.4->jupyter-server<3,>=2.4.0->jupyterlab->gauche[graphs]) (1.5.1)\n",
            "Requirement already satisfied: tinycss2 in /usr/local/lib/python3.10/dist-packages (from nbconvert>=6.4.4->jupyter-server<3,>=2.4.0->jupyterlab->gauche[graphs]) (1.2.1)\n",
            "Requirement already satisfied: fastjsonschema in /usr/local/lib/python3.10/dist-packages (from nbformat>=5.3.0->jupyter-server<3,>=2.4.0->jupyterlab->gauche[graphs]) (2.19.1)\n",
            "Requirement already satisfied: ptyprocess>=0.5 in /usr/local/lib/python3.10/dist-packages (from pexpect>4.3->ipython>=5.0.0->ipykernel->gauche[graphs]) (0.7.0)\n",
            "Requirement already satisfied: wcwidth in /usr/local/lib/python3.10/dist-packages (from prompt-toolkit!=3.0.0,!=3.0.1,<3.1.0,>=2.0.0->ipython>=5.0.0->ipykernel->gauche[graphs]) (0.2.13)\n",
            "Requirement already satisfied: charset-normalizer<4,>=2 in /usr/local/lib/python3.10/dist-packages (from requests->bioservices>=1.10.0->graphein->gauche[graphs]) (3.3.2)\n",
            "Requirement already satisfied: urllib3<3,>=1.21.1 in /usr/local/lib/python3.10/dist-packages (from requests->bioservices>=1.10.0->graphein->gauche[graphs]) (2.0.7)\n",
            "Requirement already satisfied: argon2-cffi-bindings in /usr/local/lib/python3.10/dist-packages (from argon2-cffi->jupyter-server<3,>=2.4.0->jupyterlab->gauche[graphs]) (21.2.0)\n",
            "Requirement already satisfied: soupsieve>1.2 in /usr/local/lib/python3.10/dist-packages (from beautifulsoup4->bioservices>=1.10.0->graphein->gauche[graphs]) (2.5)\n",
            "Requirement already satisfied: gevent in /usr/local/lib/python3.10/dist-packages (from grequests->bioservices>=1.10.0->graphein->gauche[graphs]) (24.2.1)\n",
            "Requirement already satisfied: cattrs>=22.2 in /usr/local/lib/python3.10/dist-packages (from requests-cache->bioservices>=1.10.0->graphein->gauche[graphs]) (23.2.3)\n",
            "Requirement already satisfied: url-normalize>=1.4 in /usr/local/lib/python3.10/dist-packages (from requests-cache->bioservices>=1.10.0->graphein->gauche[graphs]) (1.4.3)\n",
            "Requirement already satisfied: fqdn in /usr/local/lib/python3.10/dist-packages (from jsonschema>=4.18.0->jupyterlab-server<3,>=2.19.0->jupyterlab->gauche[graphs]) (1.5.1)\n",
            "Requirement already satisfied: isoduration in /usr/local/lib/python3.10/dist-packages (from jsonschema>=4.18.0->jupyterlab-server<3,>=2.19.0->jupyterlab->gauche[graphs]) (20.11.0)\n",
            "Requirement already satisfied: jsonpointer>1.13 in /usr/local/lib/python3.10/dist-packages (from jsonschema>=4.18.0->jupyterlab-server<3,>=2.19.0->jupyterlab->gauche[graphs]) (2.4)\n",
            "Requirement already satisfied: uri-template in /usr/local/lib/python3.10/dist-packages (from jsonschema>=4.18.0->jupyterlab-server<3,>=2.19.0->jupyterlab->gauche[graphs]) (1.3.0)\n",
            "Requirement already satisfied: webcolors>=1.11 in /usr/local/lib/python3.10/dist-packages (from jsonschema>=4.18.0->jupyterlab-server<3,>=2.19.0->jupyterlab->gauche[graphs]) (1.13)\n",
            "Requirement already satisfied: cffi>=1.0.1 in /usr/local/lib/python3.10/dist-packages (from argon2-cffi-bindings->argon2-cffi->jupyter-server<3,>=2.4.0->jupyterlab->gauche[graphs]) (1.16.0)\n",
            "Requirement already satisfied: webencodings in /usr/local/lib/python3.10/dist-packages (from bleach->nbconvert>=6.4.4->jupyter-server<3,>=2.4.0->jupyterlab->gauche[graphs]) (0.5.1)\n",
            "Requirement already satisfied: zope.event in /usr/local/lib/python3.10/dist-packages (from gevent->grequests->bioservices>=1.10.0->graphein->gauche[graphs]) (5.0)\n",
            "Requirement already satisfied: zope.interface in /usr/local/lib/python3.10/dist-packages (from gevent->grequests->bioservices>=1.10.0->graphein->gauche[graphs]) (6.2)\n",
            "Requirement already satisfied: greenlet>=2.0.0 in /usr/local/lib/python3.10/dist-packages (from gevent->grequests->bioservices>=1.10.0->graphein->gauche[graphs]) (3.0.3)\n",
            "Requirement already satisfied: pycparser in /usr/local/lib/python3.10/dist-packages (from cffi>=1.0.1->argon2-cffi-bindings->argon2-cffi->jupyter-server<3,>=2.4.0->jupyterlab->gauche[graphs]) (2.21)\n",
            "Requirement already satisfied: arrow>=0.15.0 in /usr/local/lib/python3.10/dist-packages (from isoduration->jsonschema>=4.18.0->jupyterlab-server<3,>=2.19.0->jupyterlab->gauche[graphs]) (1.3.0)\n",
            "Requirement already satisfied: types-python-dateutil>=2.8.10 in /usr/local/lib/python3.10/dist-packages (from arrow>=0.15.0->isoduration->jsonschema>=4.18.0->jupyterlab-server<3,>=2.19.0->jupyterlab->gauche[graphs]) (2.8.19.20240311)\n"
          ]
        }
      ],
      "source": [
        "!pip install gauche[graphs]"
      ]
    },
    {
      "cell_type": "code",
      "execution_count": 4,
      "id": "KIHXHyuDTvEb",
      "metadata": {
        "colab": {
          "base_uri": "https://localhost:8080/"
        },
        "id": "KIHXHyuDTvEb",
        "outputId": "d497ac5b-bdf3-44dc-9890-c80112bee96e"
      },
      "outputs": [
        {
          "name": "stdout",
          "output_type": "stream",
          "text": [
            "Name: gauche\n",
            "Version: 0.1.6\n",
            "Summary: Gaussian Process Library for Molecules, Chemical Reactions and Proteins.\n",
            "Home-page: \n",
            "Author: \n",
            "Author-email: \n",
            "License: MIT\n",
            "Location: /usr/local/lib/python3.10/dist-packages\n",
            "Requires: botorch, gpytorch, ipykernel, jupyterlab, matplotlib, numpy, pandas, rdkit, scikit-learn, scipy, seaborn, selfies, torch, tqdm\n",
            "Required-by: \n"
          ]
        }
      ],
      "source": [
        "!pip show gauche"
      ]
    },
    {
      "cell_type": "code",
      "execution_count": 17,
      "id": "iv3P38BdjAQR",
      "metadata": {
        "colab": {
          "base_uri": "https://localhost:8080/"
        },
        "id": "iv3P38BdjAQR",
        "outputId": "6cbebcb4-662c-4333-815d-0351241d0dd2"
      },
      "outputs": [
        {
          "name": "stdout",
          "output_type": "stream",
          "text": [
            "cuda\n"
          ]
        }
      ],
      "source": [
        "device = torch.device(\"cuda\" if torch.cuda.is_available() else \"cpu\")\n",
        "torch.set_default_device(device)\n",
        "print(device)"
      ]
    },
    {
      "cell_type": "code",
      "execution_count": null,
      "id": "09e7a6ef",
      "metadata": {},
      "outputs": [],
      "source": [
        "if device ==\"cuda\":\n",
        "    print(\"CUDA Version: \" + str(torch.version.cuda))\n",
        "    print(\"cuDNN Version: \" + str(torch.backends.cudnn.version()))\n",
        "    print(\"CUDA Device Name: \" + str(torch.cuda.get_device_name()))\n",
        "    print(\"CUDA Capabilities: \"+ str(torch.cuda.get_device_capability()))"
      ]
    },
    {
      "cell_type": "markdown",
      "id": "7b394606",
      "metadata": {
        "id": "7b394606"
      },
      "source": [
        "# Multitask GP Regression on Molecules #\n",
        "\n",
        "An example notebook for multitask GP regression on a molecular dataset. We use a multioutput GP model, the intrinsic coregionalisation model (ICM) [1] on the Photoswitch Dataset [2] --- using a Tanimoto kernel applied to fragprint representations [2]. The paper and code for the dataset is available here:\n",
        "\n",
        "Paper: https://pubs.rsc.org/en/content/articlelanding/2022/sc/d2sc04306h\n",
        "\n",
        "Code: https://github.com/Ryan-Rhys/The-Photoswitch-Dataset"
      ]
    },
    {
      "cell_type": "markdown",
      "id": "20271807",
      "metadata": {
        "id": "20271807"
      },
      "source": [
        "## Multitask Learning with Gaussian Processes\n",
        "\n",
        "Multitask learning is concerned with using a shared representation to learn several tasks; the idea being that predictive performance on a given task may benefit from the training signals of related tasks. Multioutput Gaussian processes (MOGPs) is the term given to models that perform multitask learning in the Gaussian process framework.\n",
        "\n",
        "Formally, we seek to carry out Bayesian inference over a stochastic function $f: \\mathbb{R}^D \\to \\mathbb{R}^P$ where $P$ is the number of tasks and we have access to observations $\\{(\\mathbf{x_{11}}, y_{11}), \\dotsc , (\\mathbf{x_{1N}}, y_{1N}), \\dotsc , (\\mathbf{x_{P1}}, y_{P1}), \\dotsc , (\\mathbf{x_{PN}}, y_{PN})\\}$. For each input, we may only have labels for a subset of the tasks.\n",
        "\n",
        "To build a MOGP we compute a kernel $k(\\mathbf{x}, \\mathbf{x'}) \\cdot B[i, j]$ where $B$ is a positive semidefinite $P \\times P$ matrix , where the $(i, j)\\text{th}$ entry of the matrix $B$ multiplies the covariance of the $i$-th function at $\\mathbf{x}$ and the $j$-th function at $\\mathbf{x'}$. $B$ is often referred to as an index kernel because it indexes the tasks.\n",
        "\n",
        "Inference proceeds in analogous fashion to vanilla Gaussian processes by substituting the new expression for the kernel into the equations for the predictive mean and variance.\n",
        "\n",
        "Positive semi-definiteness of $B$ is guaranteed by parametrising the Cholesky decomposition $LL^{\\top}$ where $L$, the Cholesky factor, is a lower triangular matrix and the parameters may be learned alongside the kernel hyperparameters by optimising the marginal likelihood.\n",
        "\n",
        "An example of what correlated tasks for continuous input spaces might look like is provided below. Data taken from the GPflow tutorial (https://gpflow.readthedocs.io/en/v1.5.1-docs/notebooks/advanced/coregionalisation.html).\n",
        "\n",
        "<p align=\"center\">\n",
        "  <a>\n",
        "    <img src=\"https://github.com/TUstudents/gauche/blob/main/notebooks/assets/gpflow_mogp_data.png?raw=1\" width=\"35%\" />\n",
        "  </a>\n",
        "</p>"
      ]
    },
    {
      "cell_type": "code",
      "execution_count": 5,
      "id": "c6de1fc4",
      "metadata": {
        "id": "c6de1fc4"
      },
      "outputs": [],
      "source": [
        "# Imports\n",
        "\n",
        "import warnings\n",
        "warnings.filterwarnings(\"ignore\") # Turn off Graphein warnings\n",
        "\n",
        "from botorch import fit_gpytorch_model\n",
        "import gpytorch\n",
        "import numpy as np\n",
        "from sklearn.model_selection import train_test_split\n",
        "from sklearn.metrics import r2_score, mean_squared_error, mean_absolute_error\n",
        "import torch\n",
        "\n",
        "from gauche.dataloader import MolPropLoader\n",
        "from gauche.dataloader.data_utils import transform_data"
      ]
    },
    {
      "cell_type": "markdown",
      "id": "dd5d89e8",
      "metadata": {
        "id": "dd5d89e8"
      },
      "source": [
        "We define our model. See\n",
        "\n",
        "https://docs.gpytorch.ai/en/stable/examples/03_Multitask_Exact_GPs/Multitask_GP_Regression.html\n",
        "\n",
        "for a tutorial for the use of the base multioutput GP on non-molecular data!"
      ]
    },
    {
      "cell_type": "code",
      "execution_count": 6,
      "id": "71bd1b12",
      "metadata": {
        "id": "71bd1b12"
      },
      "outputs": [],
      "source": [
        "# We define our MOGP model using the Tanimoto kernel\n",
        "\n",
        "from gauche.kernels.fingerprint_kernels.tanimoto_kernel import TanimotoKernel\n",
        "\n",
        "num_tasks = 4 # number of tasks i.e. labels\n",
        "rank = 1 # increasing the rank hyperparameter allows the model to learn more expressive\n",
        "         # correlations between objectives at the expense of increasing the number of\n",
        "         # model hyperparameters and potentially overfitting.\n",
        "\n",
        "class MultitaskGPModel(gpytorch.models.ExactGP):\n",
        "    def __init__(self, train_x, train_y, likelihood):\n",
        "        super(MultitaskGPModel, self).__init__(train_x, train_y, likelihood)\n",
        "        self.mean_module = gpytorch.means.ConstantMean()\n",
        "        self.covar_module = TanimotoKernel()\n",
        "\n",
        "        # We learn an IndexKernel for 4 tasks\n",
        "        # (so we'll actually learn 4x4=16 tasks with correlations)\n",
        "        self.task_covar_module = gpytorch.kernels.IndexKernel(num_tasks=4, rank=1)\n",
        "\n",
        "    def forward(self, x, i):\n",
        "        mean_x = self.mean_module(x)\n",
        "\n",
        "        # Get input-input covariance\n",
        "        covar_x = self.covar_module(x)\n",
        "        # Get task-task covariance\n",
        "        covar_i = self.task_covar_module(i)\n",
        "        # Multiply the two together to get the covariance we want\n",
        "        covar = covar_x.mul(covar_i)\n",
        "\n",
        "        return gpytorch.distributions.MultivariateNormal(mean_x, covar)\n"
      ]
    },
    {
      "cell_type": "markdown",
      "id": "c9434829",
      "metadata": {
        "id": "c9434829"
      },
      "source": [
        "We define our experiment parameters. In this case we are reproducing the results of the multioutput GP prediction task from https://pubs.rsc.org/en/content/articlelanding/2022/sc/d2sc04306h using 20 random splits in the ratio 80/20."
      ]
    },
    {
      "cell_type": "code",
      "execution_count": 7,
      "id": "29f91b06",
      "metadata": {
        "id": "29f91b06"
      },
      "outputs": [],
      "source": [
        "# Regression experiment parameters, number of random splits and train/test split size\n",
        "\n",
        "n_trials = 20\n",
        "test_set_size = 0.2"
      ]
    },
    {
      "cell_type": "markdown",
      "id": "a32f1340",
      "metadata": {
        "id": "a32f1340"
      },
      "source": [
        "Load the Photoswitch Dataset via the MolPropLoader class."
      ]
    },
    {
      "cell_type": "code",
      "execution_count": 8,
      "id": "7037f6b8",
      "metadata": {
        "colab": {
          "base_uri": "https://localhost:8080/"
        },
        "id": "7037f6b8",
        "outputId": "1f3bb87a-39a4-4814-c7a2-ee5052ada8f0"
      },
      "outputs": [
        {
          "name": "stdout",
          "output_type": "stream",
          "text": [
            "Found 13 invalid labels [nan nan nan nan nan nan nan nan nan nan nan nan nan] at indices [41, 42, 43, 44, 45, 46, 47, 48, 49, 50, 51, 52, 158]\n",
            "To turn validation off, use dataloader.read_csv(..., validate=False).\n",
            "Found 13 invalid labels [nan nan nan nan nan nan nan nan nan nan nan nan nan] at indices [41, 42, 43, 44, 45, 46, 47, 48, 49, 50, 51, 52, 158]\n",
            "To turn validation off, use dataloader.read_csv(..., validate=False).\n",
            "Found 13 invalid labels [nan nan nan nan nan nan nan nan nan nan nan nan nan] at indices [41, 42, 43, 44, 45, 46, 47, 48, 49, 50, 51, 52, 158]\n",
            "To turn validation off, use dataloader.read_csv(..., validate=False).\n",
            "Found 13 invalid labels [nan nan nan nan nan nan nan nan nan nan nan nan nan] at indices [41, 42, 43, 44, 45, 46, 47, 48, 49, 50, 51, 52, 158]\n",
            "To turn validation off, use dataloader.read_csv(..., validate=False).\n"
          ]
        }
      ],
      "source": [
        "# Load the Photoswitch dataset\n",
        "\n",
        "loader = MolPropLoader()\n",
        "\n",
        "# Define a utility function for dataloading\n",
        "\n",
        "def load_task_data(task,\n",
        "                   loader=MolPropLoader(),\n",
        "                   path='Photoswitch',\n",
        "                   representation='ecfp_fragprints'):\n",
        "    \"\"\"Load data for a given task.\n",
        "\n",
        "    Args:\n",
        "        task: str specifying the task to load data for.\n",
        "        One of ['Photoswitch', 'Photoswitch_E_n_pi', 'Photoswitch_Z_pi_pi', 'Photoswitch_Z_n_pi']\n",
        "        loader: DataLoader object\n",
        "        path: str specifying dataset.\n",
        "        representation: str specifying representation. One of ['ecfp_fingerprints', 'ecfp_fragprints', 'fragments']\n",
        "\n",
        "    Returns:\n",
        "        X_task: tensor of features for task\n",
        "        y_task: tensor of labels for task\n",
        "    \"\"\"\n",
        "\n",
        "    if representation not in ['ecfp_fragprints', 'ecfp_fingerprints', 'fragments']:\n",
        "        raise ValueError('representation not valid.'\n",
        "                         'Please choose one of ecfp_fragprints, ecfp_fingerprints, fragments')\n",
        "\n",
        "    if task not in ['Photoswitch', 'Photoswitch_E_n_pi', 'Photoswitch_Z_pi_pi', 'Photoswitch_Z_n_pi']:\n",
        "        raise ValueError('task not valid. Please choose one of Photoswitch,'\n",
        "                         'Photoswitch_E_n_pi, Photoswitch_Z_pi_pi, Photoswitch_Z_n_pi')\n",
        "\n",
        "    loader.load_benchmark(path)\n",
        "\n",
        "    # Featurise the molecules.\n",
        "    # We use the fragprints representations (a concatenation of Morgan fingerprints and RDKit fragment features)\n",
        "\n",
        "    loader.featurize(representation)\n",
        "    X_task = torch.from_numpy(loader.features)\n",
        "    y_task = torch.from_numpy(loader.labels)\n",
        "\n",
        "    return X_task, y_task\n",
        "\n",
        "# Load features X1-X4 and properties (tasks) y1-y4.\n",
        "\n",
        "X1, y1 = load_task_data('Photoswitch')\n",
        "X2, y2 = load_task_data('Photoswitch_E_n_pi')\n",
        "X3, y3 = load_task_data('Photoswitch_Z_pi_pi')\n",
        "X4, y4 = load_task_data('Photoswitch_Z_n_pi')"
      ]
    },
    {
      "cell_type": "code",
      "execution_count": 16,
      "id": "b6baed77",
      "metadata": {
        "colab": {
          "base_uri": "https://localhost:8080/"
        },
        "id": "b6baed77",
        "outputId": "33d645a1-4cd8-412f-cd52-6c10c309c9b0"
      },
      "outputs": [
        {
          "name": "stdout",
          "output_type": "stream",
          "text": [
            "\n",
            "Beginning training loop...\n",
            "Starting trial 0\n",
            "17.831769208530584\n",
            "Starting trial 1\n",
            "23.90279759369855\n",
            "Starting trial 2\n",
            "22.47554584412706\n",
            "Starting trial 3\n",
            "20.804609128152116\n",
            "Starting trial 4\n",
            "25.367024604795787\n",
            "Starting trial 5\n",
            "27.82422525226432\n",
            "Starting trial 6\n",
            "17.936436339069413\n",
            "Starting trial 7\n",
            "23.211026903504788\n",
            "Starting trial 8\n",
            "24.08029608469117\n",
            "Starting trial 9\n",
            "17.841880209801257\n",
            "Starting trial 10\n",
            "23.175678095612476\n",
            "Starting trial 11\n",
            "16.02244323141805\n",
            "Starting trial 12\n",
            "21.5856833292489\n",
            "Starting trial 13\n",
            "16.235615659893146\n",
            "Starting trial 14\n",
            "21.83364315701261\n",
            "Starting trial 15\n",
            "20.544188756229012\n",
            "Starting trial 16\n",
            "22.31331737395634\n",
            "Starting trial 17\n",
            "25.822566828330366\n",
            "Starting trial 18\n",
            "20.74802149831192\n",
            "Starting trial 19\n",
            "22.8391893559125\n",
            "\n",
            "mean R^2: 0.8904 +- 0.0054\n",
            "mean RMSE: 21.6198 +- 0.6969\n",
            "mean MAE: 13.6459 +- 0.3708\n",
            "\n"
          ]
        }
      ],
      "source": [
        "\"\"\"Helper function for model evaluation.\n",
        "\"\"\"\n",
        "\n",
        "def prevent_test_leakage(x1, x2, x3, y1, y2, y3, X_test):\n",
        "    \"\"\"\n",
        "    Function to prevent test leakage in train/test splits for multitask learning, for example,\n",
        "    for test data point x_i, do not provide the model with auxiliary tasks P2-P4 when predicting P1.\n",
        "\n",
        "    param: x1, x2, x3: input molecules for other tasks\n",
        "    param: y1, y2, y3: labels for other tasks\n",
        "    param: X_test: the test molecules\n",
        "    \"\"\"\n",
        "\n",
        "    other_tasks = [x1, x2, x3]\n",
        "    other_labels = [y1, y2, y3]\n",
        "    for i in range(len(other_tasks)):\n",
        "        indices_to_delete = []\n",
        "        for j in range(len(other_tasks[i])):\n",
        "            other_mol = other_tasks[i][j]\n",
        "            if np.any([np.array_equal(other_mol, mol) for mol in X_test]) == True:\n",
        "                indices_to_delete.append(j)\n",
        "        indices_to_delete.reverse()\n",
        "        for index in indices_to_delete:\n",
        "            other_tasks[i] = np.delete(other_tasks[i], index, axis=0)\n",
        "            other_labels[i] = np.delete(other_labels[i], index, axis=0)\n",
        "\n",
        "    x1, x2, x3 = other_tasks[0], other_tasks[1], other_tasks[2]\n",
        "    y1, y2, y3 = other_labels[0], other_labels[1], other_labels[2]\n",
        "\n",
        "    return x1, x2, x3, y1, y2, y3\n",
        "\n",
        "# Experiment parameters, train/test split and task to run prediction for\n",
        "test_set_size = 0.2\n",
        "task = 'e_iso_pi'\n",
        "\n",
        "r2_list = []\n",
        "rmse_list = []\n",
        "mae_list = []\n",
        "\n",
        "print('\\nBeginning training loop...')\n",
        "\n",
        "for i in range(0, n_trials):\n",
        "\n",
        "    print(f'Starting trial {i}')\n",
        "\n",
        "    if task == 'e_iso_pi':\n",
        "        X_task = X1\n",
        "        y_task = y1\n",
        "    elif task == 'z_iso_pi':\n",
        "        X_task = X2\n",
        "        y_task = y2\n",
        "    elif task == 'e_iso_n':\n",
        "        X_task = X3\n",
        "        y_task = y3\n",
        "    else:\n",
        "        X_task = X4\n",
        "        y_task = y4\n",
        "\n",
        "    X_train, X_test, y_train, y_test = train_test_split(X_task, y_task, test_size=test_set_size, random_state=i)\n",
        "\n",
        "    # Partition the training data into tasks (most difficult part of training a multioutput GP!)\n",
        "\n",
        "    if task == 'e_iso_pi':\n",
        "\n",
        "        # Modify the x-values for the other tasks to exclude X_test\n",
        "        X2_new, X3_new, X4_new, y2_new, y3_new, y4_new = \\\n",
        "            prevent_test_leakage(X2, X3, X4, y2, y3, y4, X_test)\n",
        "\n",
        "        train_i_task1 = torch.full((X_train.shape[0], 1), dtype=torch.long, fill_value=0)\n",
        "        train_i_task2 = torch.full((X2_new.shape[0], 1), dtype=torch.long, fill_value=1)\n",
        "        train_i_task3 = torch.full((X3_new.shape[0], 1), dtype=torch.long, fill_value=2)\n",
        "        train_i_task4 = torch.full((X4_new.shape[0], 1), dtype=torch.long, fill_value=3)\n",
        "\n",
        "        full_train_x = torch.cat([X_train, X2_new, X3_new, X4_new])\n",
        "        full_train_y = torch.cat([y_train, y2_new, y3_new, y4_new]).flatten()\n",
        "\n",
        "        test_i_task = torch.full((X_test.shape[0], 1), dtype=torch.long, fill_value=0)\n",
        "\n",
        "\n",
        "    elif task == 'e_iso_n':\n",
        "        X1, X3, X4, y1, y3, y4 = \\\n",
        "            prevent_test_leakage(X1, X3, X4, y1, y3, y4, X_test)\n",
        "\n",
        "        train_i_task1 = torch.full((X1.shape[0], 1), dtype=torch.long, fill_value=0)\n",
        "        train_i_task2 = torch.full((X_train.shape[0], 1), dtype=torch.long, fill_value=1)\n",
        "        train_i_task3 = torch.full((X3.shape[0], 1), dtype=torch.long, fill_value=2)\n",
        "        train_i_task4 = torch.full((X4.shape[0], 1), dtype=torch.long, fill_value=3)\n",
        "\n",
        "        full_train_x = torch.cat([X1, X_train, X3, X4])\n",
        "        full_train_y = torch.cat([y1, y_train, y3, y4])\n",
        "\n",
        "        test_i_task = torch.full((X_test.shape[0], 1), dtype=torch.long, fill_value=1)\n",
        "\n",
        "\n",
        "    elif task == 'z_iso_pi':\n",
        "        X1, X2, X4, y1, y2, y4 = \\\n",
        "            prevent_test_leakage(X1, X2, X4, y1, y2, y4, X_test)\n",
        "\n",
        "        train_i_task1 = torch.full((X1.shape[0], 1), dtype=torch.long, fill_value=0)\n",
        "        train_i_task2 = torch.full((X2.shape[0], 1), dtype=torch.long, fill_value=1)\n",
        "        train_i_task3 = torch.full((X_train.shape[0], 1), dtype=torch.long, fill_value=2)\n",
        "        train_i_task4 = torch.full((X4.shape[0], 1), dtype=torch.long, fill_value=3)\n",
        "\n",
        "        full_train_x = torch.cat([X1, X2, X_train, X4])\n",
        "        full_train_y = torch.cat([y1, y2, y_train, y4])\n",
        "\n",
        "        test_i_task = torch.full((X_test.shape[0], 1), dtype=torch.long, fill_value=2)\n",
        "\n",
        "\n",
        "    else:\n",
        "        X1, X2, X3, y1, y2, y3 = \\\n",
        "            prevent_test_leakage(X1, X2, X3, y1, y2, y3, X_test)\n",
        "\n",
        "        train_i_task1 = torch.full((X1.shape[0], 1), dtype=torch.long, fill_value=0)\n",
        "        train_i_task2 = torch.full((X2.shape[0], 1), dtype=torch.long, fill_value=1)\n",
        "        train_i_task3 = torch.full((X3.shape[0], 1), dtype=torch.long, fill_value=2)\n",
        "        train_i_task4 = torch.full((X_train.shape[0], 1), dtype=torch.long, fill_value=3)\n",
        "\n",
        "        full_train_x = torch.cat([X1, X2, X3, X_train])\n",
        "        full_train_y = torch.cat([y1, y2, y3, y_train])\n",
        "\n",
        "        test_i_task = torch.full((X_test.shape[0], 1), dtype=torch.long, fill_value=3)\n",
        "\n",
        "\n",
        "    full_train_i = torch.cat([train_i_task1, train_i_task2, train_i_task3, train_i_task4])\n",
        "\n",
        "    # Gaussian likelihood\n",
        "    likelihood = gpytorch.likelihoods.GaussianLikelihood()\n",
        "\n",
        "    # Here we have two items that we're passing in as train_inputs\n",
        "    #model = MultitaskGPModel((full_train_x.float(), full_train_i.float()), full_train_y.float(), likelihood)\n",
        "    model = MultitaskGPModel((full_train_x.float().to(device), full_train_i.float().to(device)), full_train_y.float().to(device), likelihood)\n",
        "\n",
        "    # \"Loss\" for GPs - the marginal log likelihood\n",
        "    mll = gpytorch.mlls.ExactMarginalLogLikelihood(likelihood, model)\n",
        "\n",
        "    # Use the BoTorch utility for fitting GPs in order to use the LBFGS-B optimiser (recommended)\n",
        "    # Set the jitter level larger than the default for the MOGP\n",
        "    with gpytorch.settings.cholesky_jitter(1e-3):\n",
        "        fit_gpytorch_model(mll)\n",
        "\n",
        "    # Get into evaluation (predictive posterior) mode\n",
        "    model.eval()\n",
        "    likelihood.eval()\n",
        "\n",
        "    # The gpytorch.settings.fast_pred_var flag activates LOVE (for fast variances)\n",
        "    # See https://arxiv.org/abs/1803.06058\n",
        "    with torch.no_grad(), gpytorch.settings.fast_pred_var():\n",
        "        #observed_pred_y = likelihood(model(X_test.float(), test_i_task.float()))\n",
        "        observed_pred_y = likelihood(model(X_test.float().to(device), test_i_task.float().to(device)))\n",
        "\n",
        "    y_pred = observed_pred_y.mean\n",
        "\n",
        "    # Compute R^2, RMSE and MAE on Test set\n",
        "    #score = r2_score(y_test, y_pred)\n",
        "    #rmse = np.sqrt(mean_squared_error(y_test, y_pred))\n",
        "    #mae = mean_absolute_error(y_test, y_pred)\n",
        "\n",
        "    score = r2_score(y_test.cpu(), y_pred.cpu())\n",
        "    rmse = np.sqrt(mean_squared_error(y_test.cpu(), y_pred.cpu()))\n",
        "    mae = mean_absolute_error(y_test.cpu(), y_pred.cpu())\n",
        "\n",
        "    print(rmse)\n",
        "\n",
        "    r2_list.append(score)\n",
        "    rmse_list.append(rmse)\n",
        "    mae_list.append(mae)\n",
        "\n",
        "r2_list = np.array(r2_list)\n",
        "rmse_list = np.array(rmse_list)\n",
        "mae_list = np.array(mae_list)\n",
        "\n",
        "print(\"\\nmean R^2: {:.4f} +- {:.4f}\".format(np.mean(r2_list), np.std(r2_list)/np.sqrt(len(r2_list))))\n",
        "print(\"mean RMSE: {:.4f} +- {:.4f}\".format(np.mean(rmse_list), np.std(rmse_list)/np.sqrt(len(rmse_list))))\n",
        "print(\"mean MAE: {:.4f} +- {:.4f}\\n\".format(np.mean(mae_list), np.std(mae_list)/np.sqrt(len(mae_list))))"
      ]
    },
    {
      "cell_type": "markdown",
      "id": "a4ae93ed",
      "metadata": {
        "id": "a4ae93ed"
      },
      "source": [
        "Multitask learning is especially powerful when there are correlations between different tasks as in the case of photoswitch transition wavelengths. Additionally, when seeking to predict the properties of a molecule for which correlated task labels are available, the multioutput Gaussian process can leverage this information to inform its predictions. For more on multitask learning on molecules cf Ramsundar et al. [3]. For more on multioutput Gaussian processes see [4]."
      ]
    },
    {
      "cell_type": "markdown",
      "id": "75072e66",
      "metadata": {
        "id": "75072e66"
      },
      "source": [
        "## References\n",
        "\n",
        "[1] Bonilla, E.V., Chai, K. and Williams, C., [Multi-task Gaussian process prediction](https://proceedings.neurips.cc/paper/2007/hash/66368270ffd51418ec58bd793f2d9b1b-Abstract.html). Advances in Neural Information Processing Systems, 20, 2007.\n",
        "\n",
        "[2] Griffiths, R.R., Greenfield, J.L., Thawani, A.R., Jamasb, A.R., Moss, H.B., Bourached, A., Jones, P., McCorkindale, W., Aldrick, A.A. and Fuchter, M.J., 2022. [Data-driven discovery of molecular photoswitches with multioutput Gaussian processes](https://pubs.rsc.org/en/content/articlehtml/2022/sc/d2sc04306h). Chemical Science.\n",
        "\n",
        "[3] Ramsundar, B., Kearnes, S., Riley, P., Webster, D., Konerding, D. and Pande, V., 2015. [Massively multitask networks for drug discovery](https://arxiv.org/abs/1502.02072). arXiv preprint arXiv:1502.02072.\n",
        "\n",
        "[4] [Gaussian Processes: from one to many outputs\n",
        "](https://invenia.github.io/blog/2021/02/19/OILMM-pt1/), Invenia Blog.\n",
        "\n"
      ]
    }
  ],
  "metadata": {
    "accelerator": "GPU",
    "colab": {
      "gpuType": "T4",
      "include_colab_link": true,
      "provenance": []
    },
    "kernelspec": {
      "display_name": "Python 3",
      "name": "python3"
    },
    "language_info": {
      "codemirror_mode": {
        "name": "ipython",
        "version": 3
      },
      "file_extension": ".py",
      "mimetype": "text/x-python",
      "name": "python",
      "nbconvert_exporter": "python",
      "pygments_lexer": "ipython3",
      "version": "3.11.0"
    }
  },
  "nbformat": 4,
  "nbformat_minor": 5
}
