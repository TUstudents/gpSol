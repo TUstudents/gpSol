{
  "cells": [
    {
      "cell_type": "markdown",
      "metadata": {
        "colab_type": "text",
        "id": "view-in-github"
      },
      "source": [
        "<a href=\"https://colab.research.google.com/github/TUstudents/gpSol/blob/main/notebooks/TUT_01_Loading_and_Featurising_Molecules.ipynb\" target=\"_parent\"><img src=\"https://colab.research.google.com/assets/colab-badge.svg\" alt=\"Open In Colab\"/></a>"
      ]
    },
    {
      "cell_type": "markdown",
      "id": "ef1f6fe6",
      "metadata": {},
      "source": [
        "# Google Colab setup"
      ]
    },
    {
      "cell_type": "code",
      "execution_count": 2,
      "id": "HiVg6l58B6jI",
      "metadata": {
        "colab": {
          "base_uri": "https://localhost:8080/"
        },
        "id": "HiVg6l58B6jI",
        "outputId": "776bf184-feff-4b9f-83dc-f7c8ec3e0434"
      },
      "outputs": [
        {
          "name": "stdout",
          "output_type": "stream",
          "text": [
            "Drive already mounted at /content/gdrive/; to attempt to forcibly remount, call drive.mount(\"/content/gdrive/\", force_remount=True).\n"
          ]
        }
      ],
      "source": [
        "from google.colab import drive\n",
        "drive.mount('/content/gdrive/')"
      ]
    },
    {
      "cell_type": "code",
      "execution_count": 1,
      "id": "MXQzrtoFCHOX",
      "metadata": {
        "colab": {
          "base_uri": "https://localhost:8080/"
        },
        "id": "MXQzrtoFCHOX",
        "outputId": "1650ac2b-1927-467c-a2e2-8cbdfb6e83c2"
      },
      "outputs": [],
      "source": [
        "import sys\n",
        "if 'google.colab' in sys.modules:\n",
        "    print('In colab!')\n",
        "    ! rm -rf gauche\n",
        "    !git clone https://github.com/TUstudents/gpSol\n",
        "    sys.path.insert(0,'gpSol')\n",
        "    !pip install rxnfp --no-deps\n",
        "    !pip install --no-deps drfp\n",
        "    !pip install faerun mordredcommunity\n"
      ]
    },
    {
      "cell_type": "code",
      "execution_count": 2,
      "id": "ZtkL8GQYKhta",
      "metadata": {
        "colab": {
          "base_uri": "https://localhost:8080/"
        },
        "id": "ZtkL8GQYKhta",
        "outputId": "8a85c655-64df-4838-82e7-123b52154397"
      },
      "outputs": [],
      "source": [
        "if 'google.colab' in sys.modules:\n",
        "    !pip install transformers\n",
        "    !pip install gpflow grakel"
      ]
    },
    {
      "cell_type": "code",
      "execution_count": 3,
      "id": "QgZk7oJMJ492",
      "metadata": {
        "colab": {
          "base_uri": "https://localhost:8080/"
        },
        "id": "QgZk7oJMJ492",
        "outputId": "6d81ed73-0d1d-4cf0-b098-cab90b877b36"
      },
      "outputs": [
        {
          "name": "stdout",
          "output_type": "stream",
          "text": [
            "# packages in environment at /home/tensor/miniconda3/envs/torch2_2:\n",
            "#\n",
            "# Name                    Version                   Build  Channel\n",
            "_anaconda_depends         2023.09             py311_mkl_1  \n",
            "_libgcc_mutex             0.1                 conda_forge    conda-forge\n",
            "_openmp_mutex             4.5                  2_kmp_llvm    conda-forge\n",
            "_py-xgboost-mutex         2.0                       gpu_0    conda-forge\n",
            "aiobotocore               0.10.0                     py_0    conda-forge\n",
            "aiohttp                   3.9.3           py311h459d7ec_0    conda-forge\n",
            "aiosignal                 1.3.1              pyhd8ed1ab_0    conda-forge\n",
            "alabaster                 0.7.16             pyhd8ed1ab_0    conda-forge\n",
            "alsa-lib                  1.2.8                h166bdaf_0    conda-forge\n",
            "anaconda                  custom                  py311_2  \n",
            "anyio                     4.3.0              pyhd8ed1ab_0    conda-forge\n",
            "appdirs                   1.4.4              pyh9f0ad1d_0    conda-forge\n",
            "argon2-cffi               23.1.0             pyhd8ed1ab_0    conda-forge\n",
            "argon2-cffi-bindings      21.2.0          py311h459d7ec_4    conda-forge\n",
            "arrow                     1.3.0              pyhd8ed1ab_0    conda-forge\n",
            "astor                     0.8.1              pyh9f0ad1d_0    conda-forge\n",
            "astroid                   3.0.3           py311h38be061_0    conda-forge\n",
            "astropy                   6.0.0           py311h1f0f07a_0    conda-forge\n",
            "astropy-iers-data         0.2024.3.11.18.33.3    pyhd8ed1ab_0    conda-forge\n",
            "asttokens                 2.4.1              pyhd8ed1ab_0    conda-forge\n",
            "async-lru                 2.0.4              pyhd8ed1ab_0    conda-forge\n",
            "atomicwrites              1.4.1              pyhd8ed1ab_0    conda-forge\n",
            "attr                      2.5.1                h166bdaf_1    conda-forge\n",
            "attrs                     23.2.0             pyh71513ae_0    conda-forge\n",
            "autocommand               2.2.2              pyhd8ed1ab_0    conda-forge\n",
            "autograd                  1.6.2              pyhd8ed1ab_0    conda-forge\n",
            "autograd-gamma            0.5.0              pyh9f0ad1d_0    conda-forge\n",
            "automat                   22.10.0            pyhd8ed1ab_0    conda-forge\n",
            "autopep8                  2.0.4              pyhd8ed1ab_0    conda-forge\n",
            "babel                     2.14.0             pyhd8ed1ab_0    conda-forge\n",
            "bcrypt                    4.1.2           py311h46250e7_0    conda-forge\n",
            "beautifulsoup4            4.12.3             pyha770c72_0    conda-forge\n",
            "binaryornot               0.4.4                      py_1    conda-forge\n",
            "biopandas                 0.5.1.dev0               pypi_0    pypi\n",
            "biopython                 1.83            py311h459d7ec_0    conda-forge\n",
            "bioservices               1.11.2             pyhd8ed1ab_1    conda-forge\n",
            "black                     24.2.0          py311h38be061_0    conda-forge\n",
            "blas                      2.116                       mkl    conda-forge\n",
            "blas-devel                3.9.0            16_linux64_mkl    conda-forge\n",
            "bleach                    6.1.0              pyhd8ed1ab_0    conda-forge\n",
            "blinker                   1.7.0              pyhd8ed1ab_0    conda-forge\n",
            "blosc                     1.21.5               h0f2a231_0    conda-forge\n",
            "bokeh                     2.4.3              pyhd8ed1ab_3    conda-forge\n",
            "boost                     1.78.0          py311h92ebd52_5    conda-forge\n",
            "boost-cpp                 1.78.0               h5adbc97_2    conda-forge\n",
            "botocore                  1.10.58                    py_0    conda-forge\n",
            "botorch                   0.10.0             pyhd8ed1ab_0    conda-forge\n",
            "brotli                    1.1.0                hd590300_1    conda-forge\n",
            "brotli-bin                1.1.0                hd590300_1    conda-forge\n",
            "brotli-python             1.1.0           py311hb755f60_1    conda-forge\n",
            "bzip2                     1.0.8                hd590300_5    conda-forge\n",
            "c-ares                    1.27.0               hd590300_0    conda-forge\n",
            "c-blosc2                  2.13.2               hb4ffafa_0    conda-forge\n",
            "ca-certificates           2024.2.2             hbcca054_0    conda-forge\n",
            "cached-property           1.5.2                hd8ed1ab_1    conda-forge\n",
            "cached_property           1.5.2              pyha770c72_1    conda-forge\n",
            "cairo                     1.16.0            ha61ee94_1014    conda-forge\n",
            "cattrs                    23.2.3             pyhd8ed1ab_0    conda-forge\n",
            "certifi                   2024.2.2           pyhd8ed1ab_0    conda-forge\n",
            "cffi                      1.16.0          py311hb3a22ac_0    conda-forge\n",
            "chardet                   5.2.0           py311h38be061_1    conda-forge\n",
            "charset-normalizer        3.3.2              pyhd8ed1ab_0    conda-forge\n",
            "cheroot                   10.0.0             pyhd8ed1ab_0    conda-forge\n",
            "cherrypy                  18.8.0          py311h38be061_3    conda-forge\n",
            "click                     8.1.7           unix_pyh707e725_0    conda-forge\n",
            "cloudpickle               3.0.0              pyhd8ed1ab_0    conda-forge\n",
            "colorama                  0.4.6              pyhd8ed1ab_0    conda-forge\n",
            "colorcet                  3.1.0              pyhd8ed1ab_0    conda-forge\n",
            "colorlog                  6.8.2           py311h38be061_0    conda-forge\n",
            "colour                    0.1.5              pyhd8ed1ab_1    conda-forge\n",
            "comm                      0.2.2              pyhd8ed1ab_0    conda-forge\n",
            "constantly                15.1.0                     py_0    conda-forge\n",
            "contourpy                 1.2.0           py311h9547e67_0    conda-forge\n",
            "cookiecutter              2.6.0              pyhca7485f_0    conda-forge\n",
            "cryptography              42.0.2          py311hcb13ee4_0    conda-forge\n",
            "cssselect                 1.2.0              pyhd8ed1ab_0    conda-forge\n",
            "cuda-cudart               12.1.105                      0    nvidia\n",
            "cuda-cupti                12.1.105                      0    nvidia\n",
            "cuda-libraries            12.1.0                        0    nvidia\n",
            "cuda-nvrtc                12.1.105                      0    nvidia\n",
            "cuda-nvtx                 12.1.105                      0    nvidia\n",
            "cuda-opencl               12.4.99                       0    nvidia\n",
            "cuda-runtime              12.1.0                        0    nvidia\n",
            "cuda-version              12.4                 h3060b56_3    conda-forge\n",
            "curl                      8.1.2                h409715c_0    conda-forge\n",
            "cycler                    0.12.1             pyhd8ed1ab_0    conda-forge\n",
            "cython                    3.0.9           py311hb755f60_0    conda-forge\n",
            "cytoolz                   0.12.3          py311h459d7ec_0    conda-forge\n",
            "daal4py                   2024.1.0        py311he14880b_0    conda-forge\n",
            "dal                       2024.1.0           ha770c72_300    conda-forge\n",
            "dask                      2023.3.0           pyhd8ed1ab_0    conda-forge\n",
            "dask-core                 2023.3.0           pyhd8ed1ab_0    conda-forge\n",
            "dataclasses               0.8                pyhc8e2a94_3    conda-forge\n",
            "datashader                0.16.0             pyhd8ed1ab_0    conda-forge\n",
            "dbus                      1.13.6               h5008d03_3    conda-forge\n",
            "debugpy                   1.8.1           py311hb755f60_0    conda-forge\n",
            "decorator                 5.1.1              pyhd8ed1ab_0    conda-forge\n",
            "deepdiff                  6.7.1              pyhd8ed1ab_0    conda-forge\n",
            "defusedxml                0.7.1              pyhd8ed1ab_0    conda-forge\n",
            "diff-match-patch          20230430           pyhd8ed1ab_0    conda-forge\n",
            "dill                      0.3.8              pyhd8ed1ab_0    conda-forge\n",
            "distributed               2023.3.0           pyhd8ed1ab_0    conda-forge\n",
            "docstring-to-markdown     0.15               pyhd8ed1ab_0    conda-forge\n",
            "docutils                  0.20.1          py311h38be061_3    conda-forge\n",
            "drfp                      0.3.6                    pypi_0    pypi\n",
            "easydev                   0.12.0             pyh6c4a22f_0    conda-forge\n",
            "entrypoints               0.4                pyhd8ed1ab_0    conda-forge\n",
            "et_xmlfile                1.1.0              pyhd8ed1ab_0    conda-forge\n",
            "exceptiongroup            1.2.0              pyhd8ed1ab_2    conda-forge\n",
            "executing                 2.0.1              pyhd8ed1ab_0    conda-forge\n",
            "expat                     2.6.1                h59595ed_0    conda-forge\n",
            "faerun                    0.3.20                     py_0    conda-forge\n",
            "ffmpeg                    4.3                  hf484d3e_0    pytorch\n",
            "fftw                      3.3.10          nompi_hc118613_108    conda-forge\n",
            "filelock                  3.13.1             pyhd8ed1ab_0    conda-forge\n",
            "flake8                    7.0.0              pyhd8ed1ab_0    conda-forge\n",
            "flask                     3.0.2              pyhd8ed1ab_0    conda-forge\n",
            "font-ttf-dejavu-sans-mono 2.37                 hab24e00_0    conda-forge\n",
            "font-ttf-inconsolata      3.000                h77eed37_0    conda-forge\n",
            "font-ttf-source-code-pro  2.038                h77eed37_0    conda-forge\n",
            "font-ttf-ubuntu           0.83                 h77eed37_1    conda-forge\n",
            "fontconfig                2.14.2               h14ed4e7_0    conda-forge\n",
            "fonts-conda-ecosystem     1                             0    conda-forge\n",
            "fonts-conda-forge         1                             0    conda-forge\n",
            "fonttools                 4.49.0          py311h459d7ec_0    conda-forge\n",
            "formulaic                 1.0.1              pyhd8ed1ab_0    conda-forge\n",
            "fqdn                      1.5.1              pyhd8ed1ab_0    conda-forge\n",
            "freetype                  2.12.1               h267a509_2    conda-forge\n",
            "freetype-py               2.3.0              pyhd8ed1ab_0    conda-forge\n",
            "frozenlist                1.4.1           py311h459d7ec_0    conda-forge\n",
            "fsspec                    2024.2.0           pyhca7485f_0    conda-forge\n",
            "future                    1.0.0              pyhd8ed1ab_0    conda-forge\n",
            "gauche                    0.1.6                    pypi_0    pypi\n",
            "gensim                    4.3.2           py311h320fe9a_1    conda-forge\n",
            "gettext                   0.21.1               h27087fc_0    conda-forge\n",
            "gevent                    23.9.0.post1    py311hcddcebc_1    conda-forge\n",
            "giflib                    5.2.1                h0b41bf4_3    conda-forge\n",
            "glib                      2.80.0               hf2295e7_0    conda-forge\n",
            "glib-tools                2.80.0               hde27a5a_0    conda-forge\n",
            "gmp                       6.3.0                h59595ed_1    conda-forge\n",
            "gmpy2                     2.1.2           py311h6a5fa03_1    conda-forge\n",
            "gnutls                    3.6.13               h85f3911_1    conda-forge\n",
            "gpytorch                  1.11               pyhd8ed1ab_0    conda-forge\n",
            "grakel                    0.1.10                   pypi_0    pypi\n",
            "graphein                  1.7.6                    pypi_0    pypi\n",
            "graphite2                 1.3.13            h58526e2_1001    conda-forge\n",
            "graphlib-backport         1.0.3              pyhd8ed1ab_0    conda-forge\n",
            "greenlet                  3.0.3           py311hb755f60_0    conda-forge\n",
            "grequests                 0.6.0              pyh9f0ad1d_0    conda-forge\n",
            "gst-plugins-base          1.22.0               h4243ec0_2    conda-forge\n",
            "gstreamer                 1.22.0               h25f0c4b_2    conda-forge\n",
            "gstreamer-orc             0.4.38               hd590300_0    conda-forge\n",
            "h11                       0.14.0             pyhd8ed1ab_0    conda-forge\n",
            "h2                        4.1.0              pyhd8ed1ab_0    conda-forge\n",
            "h5py                      3.9.0           nompi_py311he78b9b8_101    conda-forge\n",
            "harfbuzz                  6.0.0                h8e241bc_0    conda-forge\n",
            "hdf5                      1.14.1          nompi_h4f84152_100    conda-forge\n",
            "holoviews                 1.17.1             pyhd8ed1ab_0    conda-forge\n",
            "hpack                     4.0.0              pyh9f0ad1d_0    conda-forge\n",
            "httpcore                  1.0.4              pyhd8ed1ab_0    conda-forge\n",
            "httpx                     0.27.0             pyhd8ed1ab_0    conda-forge\n",
            "huggingface_hub           0.17.3             pyhd8ed1ab_0    conda-forge\n",
            "hvplot                    0.9.2              pyhd8ed1ab_0    conda-forge\n",
            "hyperframe                6.0.1              pyhd8ed1ab_0    conda-forge\n",
            "hyperlink                 21.0.0             pyhd3deb0d_0    conda-forge\n",
            "icu                       70.1                 h27087fc_0    conda-forge\n",
            "idna                      3.6                pyhd8ed1ab_0    conda-forge\n",
            "imagecodecs-lite          2019.12.3       py311h1f0f07a_7    conda-forge\n",
            "imageio                   2.34.0             pyh4b66e23_0    conda-forge\n",
            "imagesize                 1.4.1              pyhd8ed1ab_0    conda-forge\n",
            "imbalanced-learn          0.12.0             pyhd8ed1ab_0    conda-forge\n",
            "importlib-metadata        7.0.2              pyha770c72_0    conda-forge\n",
            "importlib_metadata        7.0.2                hd8ed1ab_0    conda-forge\n",
            "importlib_resources       6.3.0              pyhd8ed1ab_0    conda-forge\n",
            "incremental               22.10.0            pyhd8ed1ab_0    conda-forge\n",
            "inflect                   7.0.0              pyhd8ed1ab_0    conda-forge\n",
            "inflection                0.5.1              pyh9f0ad1d_0    conda-forge\n",
            "iniconfig                 2.0.0              pyhd8ed1ab_0    conda-forge\n",
            "intake                    2.0.3              pyhd8ed1ab_0    conda-forge\n",
            "intel-openmp              2023.1.0         hdb19cb5_46306  \n",
            "interface_meta            1.3.0              pyhd8ed1ab_0    conda-forge\n",
            "intervaltree              3.1.0              pyhd8ed1ab_1    conda-forge\n",
            "ipykernel                 6.29.3             pyhd33586a_0    conda-forge\n",
            "ipython                   8.22.2             pyh707e725_0    conda-forge\n",
            "ipywidgets                8.1.2              pyhd8ed1ab_0    conda-forge\n",
            "isoduration               20.11.0            pyhd8ed1ab_0    conda-forge\n",
            "isort                     5.13.2             pyhd8ed1ab_0    conda-forge\n",
            "itemadapter               0.8.0              pyhd8ed1ab_0    conda-forge\n",
            "itemloaders               1.1.0              pyhd8ed1ab_0    conda-forge\n",
            "itsdangerous              2.1.2              pyhd8ed1ab_0    conda-forge\n",
            "jack                      1.9.22               h11f4161_0    conda-forge\n",
            "jaraco.classes            3.3.1              pyhd8ed1ab_0    conda-forge\n",
            "jaraco.collections        5.0.0              pyhd8ed1ab_0    conda-forge\n",
            "jaraco.context            4.3.0              pyhd8ed1ab_0    conda-forge\n",
            "jaraco.functools          4.0.0              pyhd8ed1ab_0    conda-forge\n",
            "jaraco.text               3.12.0          py311h38be061_0    conda-forge\n",
            "jaxtyping                 0.2.28             pyhd8ed1ab_0    conda-forge\n",
            "jedi                      0.19.1             pyhd8ed1ab_0    conda-forge\n",
            "jeepney                   0.8.0              pyhd8ed1ab_0    conda-forge\n",
            "jellyfish                 1.0.3           py311h46250e7_0    conda-forge\n",
            "jinja2                    3.1.3              pyhd8ed1ab_0    conda-forge\n",
            "jmespath                  0.10.0             pyh9f0ad1d_0    conda-forge\n",
            "joblib                    1.3.2              pyhd8ed1ab_0    conda-forge\n",
            "jpeg                      9e                   h166bdaf_2    conda-forge\n",
            "jq                        1.7.1                hd590300_0    conda-forge\n",
            "json5                     0.9.22             pyhd8ed1ab_0    conda-forge\n",
            "jsonpointer               2.4             py311h38be061_3    conda-forge\n",
            "jsonschema                4.21.1             pyhd8ed1ab_0    conda-forge\n",
            "jsonschema-specifications 2023.12.1          pyhd8ed1ab_0    conda-forge\n",
            "jsonschema-with-format-nongpl 4.21.1             pyhd8ed1ab_0    conda-forge\n",
            "jupyter                   1.0.0             pyhd8ed1ab_10    conda-forge\n",
            "jupyter-lsp               2.2.4              pyhd8ed1ab_0    conda-forge\n",
            "jupyter_client            8.6.1              pyhd8ed1ab_0    conda-forge\n",
            "jupyter_console           6.6.3              pyhd8ed1ab_0    conda-forge\n",
            "jupyter_core              5.7.2           py311h38be061_0    conda-forge\n",
            "jupyter_events            0.9.1              pyhd8ed1ab_0    conda-forge\n",
            "jupyter_server            2.13.0             pyhd8ed1ab_0    conda-forge\n",
            "jupyter_server_terminals  0.5.3              pyhd8ed1ab_0    conda-forge\n",
            "jupyterlab                4.1.4              pyhd8ed1ab_0    conda-forge\n",
            "jupyterlab_pygments       0.3.0              pyhd8ed1ab_1    conda-forge\n",
            "jupyterlab_server         2.25.4             pyhd8ed1ab_0    conda-forge\n",
            "jupyterlab_widgets        3.0.10             pyhd8ed1ab_0    conda-forge\n",
            "kaleido-core              0.2.1                h3644ca4_0    conda-forge\n",
            "keyring                   24.3.1          py311h38be061_0    conda-forge\n",
            "keyutils                  1.6.1                h166bdaf_0    conda-forge\n",
            "kiwisolver                1.4.5           py311h9547e67_1    conda-forge\n",
            "krb5                      1.20.1               h81ceb04_0    conda-forge\n",
            "lame                      3.100             h166bdaf_1003    conda-forge\n",
            "lazy_loader               0.3                pyhd8ed1ab_0    conda-forge\n",
            "lcms2                     2.15                 hfd0df8a_0    conda-forge\n",
            "ld_impl_linux-64          2.40                 h41732ed_0    conda-forge\n",
            "lerc                      4.0.0                h27087fc_0    conda-forge\n",
            "libaec                    1.1.2                h59595ed_1    conda-forge\n",
            "libblas                   3.9.0            16_linux64_mkl    conda-forge\n",
            "libbrotlicommon           1.1.0                hd590300_1    conda-forge\n",
            "libbrotlidec              1.1.0                hd590300_1    conda-forge\n",
            "libbrotlienc              1.1.0                hd590300_1    conda-forge\n",
            "libcap                    2.67                 he9d0100_0    conda-forge\n",
            "libcblas                  3.9.0            16_linux64_mkl    conda-forge\n",
            "libclang                  15.0.7          default_hb11cfb5_4    conda-forge\n",
            "libclang13                15.0.7          default_ha2b6cf4_4    conda-forge\n",
            "libcublas                 12.1.0.26                     0    nvidia\n",
            "libcufft                  11.0.2.4                      0    nvidia\n",
            "libcufile                 1.9.0.20                      0    nvidia\n",
            "libcups                   2.3.3                h36d4200_3    conda-forge\n",
            "libcurand                 10.3.5.119                    0    nvidia\n",
            "libcurl                   8.1.2                h409715c_0    conda-forge\n",
            "libcusolver               11.4.4.55                     0    nvidia\n",
            "libcusparse               12.0.2.55                     0    nvidia\n",
            "libdb                     6.2.32               h9c3ff4c_0    conda-forge\n",
            "libdeflate                1.17                 h0b41bf4_0    conda-forge\n",
            "libedit                   3.1.20191231         he28a2e2_2    conda-forge\n",
            "libev                     4.33                 hd590300_2    conda-forge\n",
            "libevent                  2.1.10               h28343ad_4    conda-forge\n",
            "libexpat                  2.6.1                h59595ed_0    conda-forge\n",
            "libffi                    3.4.2                h7f98852_5    conda-forge\n",
            "libflac                   1.4.3                h59595ed_0    conda-forge\n",
            "libgcc-ng                 13.2.0               h807b86a_5    conda-forge\n",
            "libgcrypt                 1.10.3               hd590300_0    conda-forge\n",
            "libgfortran-ng            13.2.0               h69a702a_5    conda-forge\n",
            "libgfortran5              13.2.0               ha4646dd_5    conda-forge\n",
            "libglib                   2.80.0               hf2295e7_0    conda-forge\n",
            "libgomp                   13.2.0               h807b86a_5    conda-forge\n",
            "libgpg-error              1.48                 h71f35ed_0    conda-forge\n",
            "libhwloc                  2.9.1                hd6dc26d_0    conda-forge\n",
            "libiconv                  1.17                 hd590300_2    conda-forge\n",
            "libidn2                   2.3.7                hd590300_0    conda-forge\n",
            "libjpeg-turbo             2.0.0                h9bf148f_0    pytorch\n",
            "liblapack                 3.9.0            16_linux64_mkl    conda-forge\n",
            "liblapacke                3.9.0            16_linux64_mkl    conda-forge\n",
            "libllvm14                 14.0.6               hcd5def8_4    conda-forge\n",
            "libllvm15                 15.0.7               hadd5161_1    conda-forge\n",
            "libnghttp2                1.58.0               h47da74e_0    conda-forge\n",
            "libnpp                    12.0.2.50                     0    nvidia\n",
            "libnsl                    2.0.1                hd590300_0    conda-forge\n",
            "libnvjitlink              12.1.105                      0    nvidia\n",
            "libnvjpeg                 12.1.1.14                     0    nvidia\n",
            "libogg                    1.3.4                h7f98852_1    conda-forge\n",
            "libopus                   1.3.1                h7f98852_1    conda-forge\n",
            "libpng                    1.6.43               h2797004_0    conda-forge\n",
            "libpq                     15.3                 hbcd7760_1    conda-forge\n",
            "libsndfile                1.2.2                hc60ed4a_1    conda-forge\n",
            "libsodium                 1.0.18               h36c2ea0_1    conda-forge\n",
            "libspatialindex           1.9.3                h9c3ff4c_4    conda-forge\n",
            "libsqlite                 3.45.2               h2797004_0    conda-forge\n",
            "libssh2                   1.11.0               h0841786_0    conda-forge\n",
            "libstdcxx-ng              13.2.0               h7e041cc_5    conda-forge\n",
            "libsystemd0               253                  h8c4010b_1    conda-forge\n",
            "libtiff                   4.5.0                h6adf6a1_2    conda-forge\n",
            "libtool                   2.4.7                h27087fc_0    conda-forge\n",
            "libudev1                  253                  h0b41bf4_1    conda-forge\n",
            "libunistring              0.9.10               h7f98852_0    conda-forge\n",
            "libuuid                   2.38.1               h0b41bf4_0    conda-forge\n",
            "libuv                     1.48.0               hd590300_0    conda-forge\n",
            "libvorbis                 1.3.7                h9c3ff4c_0    conda-forge\n",
            "libwebp                   1.2.4                h1daa5a0_1    conda-forge\n",
            "libwebp-base              1.2.4                h166bdaf_0    conda-forge\n",
            "libxcb                    1.13              h7f98852_1004    conda-forge\n",
            "libxcrypt                 4.4.36               hd590300_1    conda-forge\n",
            "libxgboost                2.0.3           cuda120_h75debf4_1    conda-forge\n",
            "libxkbcommon              1.5.0                h79f4944_1    conda-forge\n",
            "libxml2                   2.10.3               hca2bb57_4    conda-forge\n",
            "libxslt                   1.1.37               h873f0b0_0    conda-forge\n",
            "libzlib                   1.2.13               hd590300_5    conda-forge\n",
            "lifelines                 0.27.8             pyhd8ed1ab_0    conda-forge\n",
            "linear_operator           0.5.1              pyhd8ed1ab_0    conda-forge\n",
            "llvm-openmp               15.0.7               h0cdce71_0    conda-forge\n",
            "llvmlite                  0.42.0          py311ha6695c7_1    conda-forge\n",
            "locket                    1.0.0              pyhd8ed1ab_0    conda-forge\n",
            "loguru                    0.7.2           py311h38be061_1    conda-forge\n",
            "looseversion              1.1.2              pyhd8ed1ab_0    conda-forge\n",
            "lxml                      4.9.2           py311h14a6109_0    conda-forge\n",
            "lz4                       4.3.3           py311h38e4bf4_0    conda-forge\n",
            "lz4-c                     1.9.4                hcb278e6_0    conda-forge\n",
            "lzo                       2.10              h516909a_1000    conda-forge\n",
            "markdown                  3.5.2              pyhd8ed1ab_0    conda-forge\n",
            "markdown-it-py            3.0.0              pyhd8ed1ab_0    conda-forge\n",
            "markupsafe                2.1.5           py311h459d7ec_0    conda-forge\n",
            "mathjax                   2.7.7                ha770c72_3    conda-forge\n",
            "matplotlib                3.8.3           py311h38be061_0    conda-forge\n",
            "matplotlib-base           3.8.3           py311h54ef318_0    conda-forge\n",
            "matplotlib-inline         0.1.6              pyhd8ed1ab_0    conda-forge\n",
            "mccabe                    0.7.0              pyhd8ed1ab_0    conda-forge\n",
            "mdurl                     0.1.2              pyhd8ed1ab_0    conda-forge\n",
            "mistune                   3.0.2              pyhd8ed1ab_0    conda-forge\n",
            "mkl                       2022.1.0           h84fe81f_915    conda-forge\n",
            "mkl-devel                 2022.1.0           ha770c72_916    conda-forge\n",
            "mkl-include               2022.1.0           h84fe81f_915    conda-forge\n",
            "mkl-service               2.4.0           py311hb711fc7_0    conda-forge\n",
            "mmtf-python               1.1.3              pyhd8ed1ab_0    conda-forge\n",
            "mordredcommunity          2.0.5              pyhd8ed1ab_0    conda-forge\n",
            "more-itertools            10.2.0             pyhd8ed1ab_0    conda-forge\n",
            "mpc                       1.3.1                hfe3b2da_0    conda-forge\n",
            "mpfr                      4.2.1                h9458935_0    conda-forge\n",
            "mpg123                    1.32.4               h59595ed_0    conda-forge\n",
            "mpi                       1.0                       mpich    conda-forge\n",
            "mpich                     4.2.0              h846660c_100    conda-forge\n",
            "mpmath                    1.3.0              pyhd8ed1ab_0    conda-forge\n",
            "msgpack-python            1.0.7           py311h9547e67_0    conda-forge\n",
            "multidict                 6.0.5           py311h459d7ec_0    conda-forge\n",
            "multipledispatch          0.6.0                      py_0    conda-forge\n",
            "munkres                   1.1.4              pyh9f0ad1d_0    conda-forge\n",
            "mypy_extensions           1.0.0              pyha770c72_0    conda-forge\n",
            "mysql-common              8.0.33               hf1915f5_6    conda-forge\n",
            "mysql-libs                8.0.33               hca2cd23_6    conda-forge\n",
            "nbclient                  0.10.0             pyhd8ed1ab_0    conda-forge\n",
            "nbconvert                 7.16.2             pyhd8ed1ab_0    conda-forge\n",
            "nbconvert-core            7.16.2             pyhd8ed1ab_0    conda-forge\n",
            "nbconvert-pandoc          7.16.2             pyhd8ed1ab_0    conda-forge\n",
            "nbformat                  5.10.2             pyhd8ed1ab_0    conda-forge\n",
            "nccl                      2.20.5.1             h3a97aeb_0    conda-forge\n",
            "ncurses                   6.4                  h59595ed_2    conda-forge\n",
            "nest-asyncio              1.6.0              pyhd8ed1ab_0    conda-forge\n",
            "nettle                    3.6                  he412f7d_0    conda-forge\n",
            "networkx                  3.2.1              pyhd8ed1ab_0    conda-forge\n",
            "ngboost                   0.3.6                      py_0    conda-forge\n",
            "nltk                      3.8.1              pyhd8ed1ab_0    conda-forge\n",
            "notebook                  7.1.1              pyhd8ed1ab_0    conda-forge\n",
            "notebook-shim             0.2.4              pyhd8ed1ab_0    conda-forge\n",
            "nspr                      4.35                 h27087fc_0    conda-forge\n",
            "nss                       3.98                 h1d7d5a4_0    conda-forge\n",
            "numba                     0.59.0          py311h96b013e_1    conda-forge\n",
            "numexpr                   2.8.3           mkl_py311h0b1cd97_1    conda-forge\n",
            "numpy                     1.26.4          py311h64a7726_0    conda-forge\n",
            "numpydoc                  1.6.0              pyhd8ed1ab_0    conda-forge\n",
            "oniguruma                 6.9.9                hd590300_0    conda-forge\n",
            "openh264                  2.1.1                h780b84a_0    conda-forge\n",
            "openjpeg                  2.5.0                hfec8fc6_2    conda-forge\n",
            "openpyxl                  3.1.2           py311h459d7ec_1    conda-forge\n",
            "openssl                   3.1.5                hd590300_0    conda-forge\n",
            "opt_einsum                3.3.0              pyhc1e730c_2    conda-forge\n",
            "ordered-set               4.1.0              pyhd8ed1ab_0    conda-forge\n",
            "orjson                    3.9.15          py311h46250e7_0    conda-forge\n",
            "overrides                 7.7.0              pyhd8ed1ab_0    conda-forge\n",
            "packaging                 24.0               pyhd8ed1ab_0    conda-forge\n",
            "pandas                    2.2.1           py311h320fe9a_0    conda-forge\n",
            "pandoc                    3.1.12.2             ha770c72_0    conda-forge\n",
            "pandocfilters             1.5.0              pyhd8ed1ab_0    conda-forge\n",
            "panel                     0.14.4             pyhd8ed1ab_0    conda-forge\n",
            "param                     1.13.0             pyh1a96a4e_0    conda-forge\n",
            "parsel                    1.8.1              pyhd8ed1ab_0    conda-forge\n",
            "parso                     0.8.3              pyhd8ed1ab_0    conda-forge\n",
            "partd                     1.4.1              pyhd8ed1ab_0    conda-forge\n",
            "pathspec                  0.12.1             pyhd8ed1ab_0    conda-forge\n",
            "patsy                     0.5.6              pyhd8ed1ab_0    conda-forge\n",
            "pcre2                     10.43                hcad00b1_0    conda-forge\n",
            "pep8                      1.7.1                      py_0    conda-forge\n",
            "pexpect                   4.9.0              pyhd8ed1ab_0    conda-forge\n",
            "pickleshare               0.7.5                   py_1003    conda-forge\n",
            "pillow                    9.4.0           py311h50def17_1    conda-forge\n",
            "pip                       24.0               pyhd8ed1ab_0    conda-forge\n",
            "pixman                    0.43.2               h59595ed_0    conda-forge\n",
            "pkgutil-resolve-name      1.3.10             pyhd8ed1ab_1    conda-forge\n",
            "platformdirs              4.2.0              pyhd8ed1ab_0    conda-forge\n",
            "plotly                    5.19.0             pyhd8ed1ab_0    conda-forge\n",
            "pluggy                    1.4.0              pyhd8ed1ab_0    conda-forge\n",
            "ply                       3.11                       py_1    conda-forge\n",
            "portend                   3.2.0              pyhd8ed1ab_0    conda-forge\n",
            "prometheus_client         0.20.0             pyhd8ed1ab_0    conda-forge\n",
            "prompt-toolkit            3.0.42             pyha770c72_0    conda-forge\n",
            "prompt_toolkit            3.0.42               hd8ed1ab_0    conda-forge\n",
            "protego                   0.3.0              pyhd8ed1ab_0    conda-forge\n",
            "psutil                    5.9.8           py311h459d7ec_0    conda-forge\n",
            "pthread-stubs             0.4               h36c2ea0_1001    conda-forge\n",
            "ptyprocess                0.7.0              pyhd3deb0d_0    conda-forge\n",
            "pulseaudio                16.1                 hcb278e6_3    conda-forge\n",
            "pulseaudio-client         16.1                 h5195f5e_3    conda-forge\n",
            "pulseaudio-daemon         16.1                 ha8d29e2_3    conda-forge\n",
            "pure_eval                 0.2.2              pyhd8ed1ab_0    conda-forge\n",
            "py-cpuinfo                9.0.0              pyhd8ed1ab_0    conda-forge\n",
            "py-xgboost                2.0.3           cuda118_pyhedeaf28_1    conda-forge\n",
            "pyasn1                    0.5.1              pyhd8ed1ab_0    conda-forge\n",
            "pyasn1-modules            0.3.0              pyhd8ed1ab_0    conda-forge\n",
            "pycairo                   1.25.0          py311h8feb60e_1    conda-forge\n",
            "pycodestyle               2.11.1             pyhd8ed1ab_0    conda-forge\n",
            "pycparser                 2.21               pyhd8ed1ab_0    conda-forge\n",
            "pyct                      0.5.0              pyhd8ed1ab_0    conda-forge\n",
            "pycurl                    7.45.1          py311hae980a4_3    conda-forge\n",
            "pydantic                  1.10.13         py311h459d7ec_1    conda-forge\n",
            "pydispatcher              2.0.5                      py_1    conda-forge\n",
            "pydocstyle                6.3.0              pyhd8ed1ab_0    conda-forge\n",
            "pyerfa                    2.0.1.1         py311h1f0f07a_0    conda-forge\n",
            "pyflakes                  3.2.0              pyhd8ed1ab_0    conda-forge\n",
            "pygments                  2.17.2             pyhd8ed1ab_0    conda-forge\n",
            "pylint                    3.0.4              pyhd8ed1ab_0    conda-forge\n",
            "pylint-venv               3.0.3              pyhd8ed1ab_0    conda-forge\n",
            "pyls-spyder               0.4.0              pyhd8ed1ab_0    conda-forge\n",
            "pyodbc                    5.1.0           py311hb755f60_0    conda-forge\n",
            "pyopenssl                 24.0.0             pyhd8ed1ab_0    conda-forge\n",
            "pyparsing                 3.1.2              pyhd8ed1ab_0    conda-forge\n",
            "pyqt                      5.15.9          py311hf0fb5b6_5    conda-forge\n",
            "pyqt5-sip                 12.12.2         py311hb755f60_5    conda-forge\n",
            "pyqtwebengine             5.15.9          py311hd529140_5    conda-forge\n",
            "pyro-api                  0.1.2              pyhd8ed1ab_0    conda-forge\n",
            "pyro-ppl                  1.9.0              pyhd8ed1ab_0    conda-forge\n",
            "pysocks                   1.7.1              pyha2e5f31_6    conda-forge\n",
            "pytables                  3.8.0           py311h504fbfb_2    conda-forge\n",
            "pytest                    8.1.1              pyhd8ed1ab_0    conda-forge\n",
            "python                    3.11.6          hab00c5b_0_cpython    conda-forge\n",
            "python-dateutil           2.9.0              pyhd8ed1ab_0    conda-forge\n",
            "python-fastjsonschema     2.19.1             pyhd8ed1ab_0    conda-forge\n",
            "python-json-logger        2.0.7              pyhd8ed1ab_0    conda-forge\n",
            "python-kaleido            0.2.1              pyhd8ed1ab_0    conda-forge\n",
            "python-lsp-black          2.0.0              pyhd8ed1ab_0    conda-forge\n",
            "python-lsp-jsonrpc        1.1.2              pyhd8ed1ab_0    conda-forge\n",
            "python-lsp-server         1.10.1             pyhd8ed1ab_0    conda-forge\n",
            "python-lsp-server-base    1.10.1             pyhd8ed1ab_0    conda-forge\n",
            "python-slugify            8.0.4              pyhd8ed1ab_0    conda-forge\n",
            "python-tzdata             2024.1             pyhd8ed1ab_0    conda-forge\n",
            "python_abi                3.11                    4_cp311    conda-forge\n",
            "pytoolconfig              1.2.5              pyhd8ed1ab_0    conda-forge\n",
            "pytorch                   2.2.1           py3.11_cuda12.1_cudnn8.9.2_0    pytorch\n",
            "pytorch-cuda              12.1                 ha16c6d3_5    pytorch\n",
            "pytorch-mutex             1.0                        cuda    pytorch\n",
            "pytz                      2024.1             pyhd8ed1ab_0    conda-forge\n",
            "pyviz_comms               3.0.1              pyhd8ed1ab_0    conda-forge\n",
            "pywavelets                1.4.1           py311h1f0f07a_1    conda-forge\n",
            "pyxdg                     0.28               pyhd8ed1ab_0    conda-forge\n",
            "pyyaml                    6.0.1           py311h459d7ec_1    conda-forge\n",
            "pyzmq                     25.1.2          py311h34ded2d_0    conda-forge\n",
            "qdarkstyle                3.2.3              pyhd8ed1ab_0    conda-forge\n",
            "qstylizer                 0.2.2              pyhd8ed1ab_0    conda-forge\n",
            "qt-main                   5.15.8               h5d23da1_6    conda-forge\n",
            "qt-webengine              5.15.8               h77d6d84_0    conda-forge\n",
            "qtawesome                 1.3.0              pyh9208f05_0    conda-forge\n",
            "qtconsole                 5.5.1              pyhd8ed1ab_0    conda-forge\n",
            "qtconsole-base            5.5.1              pyha770c72_0    conda-forge\n",
            "qtpy                      2.4.1              pyhd8ed1ab_0    conda-forge\n",
            "queuelib                  1.6.2              pyhd8ed1ab_0    conda-forge\n",
            "rdkit                     2023.03.3       py311hc21844d_0    conda-forge\n",
            "readline                  8.2                  h8228510_1    conda-forge\n",
            "referencing               0.33.0             pyhd8ed1ab_0    conda-forge\n",
            "regex                     2023.12.25      py311h459d7ec_0    conda-forge\n",
            "reportlab                 4.1.0           py311h459d7ec_0    conda-forge\n",
            "repoze.lru                0.7                        py_0    conda-forge\n",
            "requests                  2.31.0             pyhd8ed1ab_0    conda-forge\n",
            "requests-cache            1.2.0              pyhd8ed1ab_0    conda-forge\n",
            "requests-file             2.0.0              pyhd8ed1ab_0    conda-forge\n",
            "requests_cache            0.4.13                     py_0    conda-forge\n",
            "rfc3339-validator         0.1.4              pyhd8ed1ab_0    conda-forge\n",
            "rfc3986-validator         0.1.1              pyh9f0ad1d_0    conda-forge\n",
            "rich                      13.7.1             pyhd8ed1ab_0    conda-forge\n",
            "rich-click                1.7.4              pyhd8ed1ab_0    conda-forge\n",
            "rlpycairo                 0.2.0              pyhd8ed1ab_0    conda-forge\n",
            "rope                      1.12.0             pyhd8ed1ab_0    conda-forge\n",
            "routes                    2.5.1              pyhd8ed1ab_0    conda-forge\n",
            "rpds-py                   0.18.0          py311h46250e7_0    conda-forge\n",
            "rtree                     1.2.0           py311h3bb2b0f_0    conda-forge\n",
            "rxnfp                     0.1.0                    pypi_0    pypi\n",
            "s3fs                      0.6.0              pyhd8ed1ab_0    conda-forge\n",
            "sacremoses                0.0.53             pyhd8ed1ab_0    conda-forge\n",
            "scikit-image              0.20.0          py311h2872171_1    conda-forge\n",
            "scikit-learn              1.4.1.post1     py311hc009520_0    conda-forge\n",
            "scikit-learn-intelex      2024.1.0        py311h38be061_0    conda-forge\n",
            "scipy                     1.12.0          py311h64a7726_2    conda-forge\n",
            "scrapy                    2.11.1          py311h38be061_2    conda-forge\n",
            "seaborn                   0.13.2               hd8ed1ab_0    conda-forge\n",
            "seaborn-base              0.13.2             pyhd8ed1ab_0    conda-forge\n",
            "secretstorage             3.3.3           py311h38be061_2    conda-forge\n",
            "selfies                   2.1.1              pyhd8ed1ab_0    conda-forge\n",
            "send2trash                1.8.2              pyh41d4057_0    conda-forge\n",
            "service-identity          21.1.0             pyhd8ed1ab_0    conda-forge\n",
            "service_identity          21.1.0               hd8ed1ab_0    conda-forge\n",
            "setuptools                69.2.0             pyhd8ed1ab_0    conda-forge\n",
            "simplejson                3.19.2          py311h459d7ec_0    conda-forge\n",
            "sip                       6.7.12          py311hb755f60_0    conda-forge\n",
            "six                       1.16.0             pyh6c4a22f_0    conda-forge\n",
            "smart_open                7.0.1              pyhd8ed1ab_0    conda-forge\n",
            "snappy                    1.1.10               h9fff704_0    conda-forge\n",
            "sniffio                   1.3.1              pyhd8ed1ab_0    conda-forge\n",
            "snowballstemmer           2.2.0              pyhd8ed1ab_0    conda-forge\n",
            "sortedcontainers          2.4.0              pyhd8ed1ab_0    conda-forge\n",
            "soupsieve                 2.5                pyhd8ed1ab_1    conda-forge\n",
            "sphinx                    7.2.6              pyhd8ed1ab_0    conda-forge\n",
            "sphinxcontrib-applehelp   1.0.8              pyhd8ed1ab_0    conda-forge\n",
            "sphinxcontrib-devhelp     1.0.6              pyhd8ed1ab_0    conda-forge\n",
            "sphinxcontrib-htmlhelp    2.0.5              pyhd8ed1ab_0    conda-forge\n",
            "sphinxcontrib-jsmath      1.0.1              pyhd8ed1ab_0    conda-forge\n",
            "sphinxcontrib-qthelp      1.0.7              pyhd8ed1ab_0    conda-forge\n",
            "sphinxcontrib-serializinghtml 1.1.10             pyhd8ed1ab_0    conda-forge\n",
            "spyder                    5.5.1           py311h38be061_0    conda-forge\n",
            "spyder-kernels            2.5.1           unix_pyh707e725_0    conda-forge\n",
            "sqlalchemy                2.0.28          py311h459d7ec_0    conda-forge\n",
            "sqlite                    3.45.2               h2c6b66d_0    conda-forge\n",
            "stack_data                0.6.2              pyhd8ed1ab_0    conda-forge\n",
            "statsmodels               0.14.1          py311h1f0f07a_0    conda-forge\n",
            "suds-community            1.1.2              pyhd8ed1ab_0    conda-forge\n",
            "sympy                     1.12            pypyh9d50eac_103    conda-forge\n",
            "tabulate                  0.9.0              pyhd8ed1ab_1    conda-forge\n",
            "tbb                       2021.9.0             hf52228f_0    conda-forge\n",
            "tbb4py                    2021.9.0        py311hb9d87df_0    conda-forge\n",
            "tblib                     3.0.0              pyhd8ed1ab_0    conda-forge\n",
            "tempora                   5.5.1              pyhd8ed1ab_0    conda-forge\n",
            "tenacity                  8.2.3              pyhd8ed1ab_0    conda-forge\n",
            "terminado                 0.18.1             pyh0d859eb_0    conda-forge\n",
            "text-unidecode            1.3                pyhd8ed1ab_1    conda-forge\n",
            "textdistance              4.5.0              pyhd8ed1ab_0    conda-forge\n",
            "threadpoolctl             3.3.0              pyhc1e730c_0    conda-forge\n",
            "three-merge               0.1.1              pyh9f0ad1d_0    conda-forge\n",
            "tifffile                  2020.6.3                   py_0    conda-forge\n",
            "tinycss2                  1.2.1              pyhd8ed1ab_0    conda-forge\n",
            "tk                        8.6.13          noxft_h4845f30_101    conda-forge\n",
            "tldextract                5.1.1              pyhd8ed1ab_0    conda-forge\n",
            "tokenizers                0.15.0          py311h6640629_0    conda-forge\n",
            "toml                      0.10.2             pyhd8ed1ab_0    conda-forge\n",
            "tomli                     2.0.1              pyhd8ed1ab_0    conda-forge\n",
            "tomlkit                   0.12.4             pyha770c72_0    conda-forge\n",
            "toolz                     0.12.1             pyhd8ed1ab_0    conda-forge\n",
            "torchaudio                2.2.1               py311_cu121    pytorch\n",
            "torchtriton               2.2.0                     py311    pytorch\n",
            "torchvision               0.17.1              py311_cu121    pytorch\n",
            "tornado                   6.4             py311h459d7ec_0    conda-forge\n",
            "tqdm                      4.66.2             pyhd8ed1ab_0    conda-forge\n",
            "traitlets                 5.14.2             pyhd8ed1ab_0    conda-forge\n",
            "transformers              4.17.0             pyhd8ed1ab_0    conda-forge\n",
            "twisted                   24.3.0          py311h459d7ec_0    conda-forge\n",
            "typeguard                 2.13.3             pyhd8ed1ab_0    conda-forge\n",
            "types-python-dateutil     2.8.19.20240311    pyhd8ed1ab_0    conda-forge\n",
            "typing-extensions         4.10.0               hd8ed1ab_0    conda-forge\n",
            "typing_extensions         4.10.0             pyha770c72_0    conda-forge\n",
            "typing_utils              0.1.0              pyhd8ed1ab_0    conda-forge\n",
            "tzdata                    2024a                h0c530f3_0    conda-forge\n",
            "ujson                     5.9.0           py311hb755f60_0    conda-forge\n",
            "unixodbc                  2.3.12               h661eb56_0    conda-forge\n",
            "uri-template              1.3.0              pyhd8ed1ab_0    conda-forge\n",
            "url-normalize             1.4.3              pyhd8ed1ab_0    conda-forge\n",
            "urllib3                   2.2.1              pyhd8ed1ab_0    conda-forge\n",
            "w3lib                     2.1.2              pyhd8ed1ab_0    conda-forge\n",
            "watchdog                  4.0.0           py311h38be061_0    conda-forge\n",
            "wcwidth                   0.2.13             pyhd8ed1ab_0    conda-forge\n",
            "webcolors                 1.13               pyhd8ed1ab_0    conda-forge\n",
            "webencodings              0.5.1              pyhd8ed1ab_2    conda-forge\n",
            "websocket-client          1.7.0              pyhd8ed1ab_0    conda-forge\n",
            "werkzeug                  3.0.1              pyhd8ed1ab_0    conda-forge\n",
            "wget                      3.2                      pypi_0    pypi\n",
            "whatthepatch              1.0.5              pyhd8ed1ab_0    conda-forge\n",
            "wheel                     0.42.0             pyhd8ed1ab_0    conda-forge\n",
            "widgetsnbextension        4.0.10             pyhd8ed1ab_0    conda-forge\n",
            "wrapt                     1.16.0          py311h459d7ec_0    conda-forge\n",
            "wurlitzer                 3.0.3              pyhd8ed1ab_0    conda-forge\n",
            "xarray                    2024.2.0           pyhd8ed1ab_0    conda-forge\n",
            "xcb-util                  0.4.0                h516909a_0    conda-forge\n",
            "xcb-util-image            0.4.0                h166bdaf_0    conda-forge\n",
            "xcb-util-keysyms          0.4.0                h516909a_0    conda-forge\n",
            "xcb-util-renderutil       0.3.9                h166bdaf_0    conda-forge\n",
            "xcb-util-wm               0.4.1                h516909a_0    conda-forge\n",
            "xgboost                   2.0.3           cuda118_pyh5ebfdf7_1    conda-forge\n",
            "xkeyboard-config          2.38                 h0b41bf4_0    conda-forge\n",
            "xmltodict                 0.13.0             pyhd8ed1ab_0    conda-forge\n",
            "xorg-kbproto              1.0.7             h7f98852_1002    conda-forge\n",
            "xorg-libice               1.1.1                hd590300_0    conda-forge\n",
            "xorg-libsm                1.2.4                h7391055_0    conda-forge\n",
            "xorg-libx11               1.8.4                h0b41bf4_0    conda-forge\n",
            "xorg-libxau               1.0.11               hd590300_0    conda-forge\n",
            "xorg-libxdmcp             1.1.3                h7f98852_0    conda-forge\n",
            "xorg-libxext              1.3.4                h0b41bf4_2    conda-forge\n",
            "xorg-libxrender           0.9.10            h7f98852_1003    conda-forge\n",
            "xorg-renderproto          0.11.1            h7f98852_1002    conda-forge\n",
            "xorg-xextproto            7.3.0             h0b41bf4_1003    conda-forge\n",
            "xorg-xproto               7.0.31            h7f98852_1007    conda-forge\n",
            "xz                        5.2.6                h166bdaf_0    conda-forge\n",
            "yaml                      0.2.5                h7f98852_2    conda-forge\n",
            "yapf                      0.40.1             pyhd8ed1ab_0    conda-forge\n",
            "yarl                      1.9.4           py311h459d7ec_0    conda-forge\n",
            "zc.lockfile               3.0.post1          pyhd8ed1ab_0    conda-forge\n",
            "zeromq                    4.3.5                h59595ed_1    conda-forge\n",
            "zict                      3.0.0              pyhd8ed1ab_0    conda-forge\n",
            "zipp                      3.17.0             pyhd8ed1ab_0    conda-forge\n",
            "zlib                      1.2.13               hd590300_5    conda-forge\n",
            "zlib-ng                   2.0.7                h0b41bf4_0    conda-forge\n",
            "zope.event                5.0                pyhd8ed1ab_0    conda-forge\n",
            "zope.interface            6.2             py311h459d7ec_0    conda-forge\n",
            "zstd                      1.5.5                hfc55251_0    conda-forge\n"
          ]
        }
      ],
      "source": [
        "if 'google.colab' in sys.modules:\n",
        "    !pip install gauche[graphs]\n",
        "else:\n",
        "    !mamba list"
      ]
    },
    {
      "cell_type": "code",
      "execution_count": 4,
      "id": "448f4826",
      "metadata": {},
      "outputs": [
        {
          "name": "stdout",
          "output_type": "stream",
          "text": [
            "Name: gauche\n",
            "Version: 0.1.6\n",
            "Summary: Gaussian Process Library for Molecules, Chemical Reactions and Proteins.\n",
            "Home-page: \n",
            "Author: \n",
            "Author-email: \n",
            "License: MIT\n",
            "Location: /home/tensor/miniconda3/envs/torch2_2/lib/python3.11/site-packages\n",
            "Requires: botorch, gpytorch, ipykernel, jupyterlab, matplotlib, numpy, pandas, rdkit, scikit-learn, scipy, seaborn, selfies, torch, tqdm\n",
            "Required-by: \n"
          ]
        }
      ],
      "source": [
        "!pip show gauche"
      ]
    },
    {
      "cell_type": "code",
      "execution_count": 5,
      "id": "0220c200",
      "metadata": {},
      "outputs": [
        {
          "name": "stdout",
          "output_type": "stream",
          "text": [
            "cuda\n"
          ]
        }
      ],
      "source": [
        "import torch\n",
        "device = torch.device(\"cuda\" if torch.cuda.is_available() else \"cpu\")\n",
        "torch.set_default_device(device)\n",
        "print(device)"
      ]
    },
    {
      "cell_type": "markdown",
      "id": "d3636d97-3a25-4ed5-bc5e-aa043befa7ad",
      "metadata": {
        "id": "d3636d97-3a25-4ed5-bc5e-aa043befa7ad"
      },
      "source": [
        "# Loading and Featurising Molecular Data\n",
        "\n",
        "**In this noteboook, we will use GAUCHE's to quickly and easily load and preprocess molecular property and yield prediction datasets**"
      ]
    },
    {
      "cell_type": "markdown",
      "id": "9d65c40a-8ebb-4e0b-84dc-ab32a3fd4a3e",
      "metadata": {
        "id": "9d65c40a-8ebb-4e0b-84dc-ab32a3fd4a3e"
      },
      "source": [
        "## Molecular Property Prediction\n",
        "\n",
        "The [MolPropLoader class](https://leojklarner.github.io/gauche/modules/dataloader.html#module-gauche.dataloader.molprop_loader) provides a range of useful helper function for loading and featurising molecular property prediction datasets. It comes with a number of built-in datasets that you can use to test your models:\n",
        "\n",
        "* `Photoswitch`: The task is to predict the values of the E isomer π − π∗ transition wavelength for 392 photoswitch molecules.\n",
        "* `ESOL` The task is to predict the logarithmic aqueous solubility values for 1128 organic small molecules.\n",
        "* `FreeSolv` The task is to predict the hydration free energy values for 642 organic small molecules.\n",
        "* `Lipophilicity` The task is to predict the octanol/water distribution coefficients for 4200 organic small molecules.\n",
        "\n",
        "You can load them by calling the `load_benchmark` function with the corresponding argument. Alternatively, you can simply load your own dataset by calling the `read_csv(path, smiles_column, label_column)` with the path to your dataset and the name of the columns containing the SMILES strings and labels instead."
      ]
    },
    {
      "cell_type": "code",
      "execution_count": 19,
      "id": "cf4f109d-6602-4f9f-b3c6-7e23bf3a2d9c",
      "metadata": {
        "colab": {
          "base_uri": "https://localhost:8080/"
        },
        "id": "cf4f109d-6602-4f9f-b3c6-7e23bf3a2d9c",
        "outputId": "b103c61a-755d-442a-e50c-cb7d6bf1c0f5"
      },
      "outputs": [
        {
          "name": "stdout",
          "output_type": "stream",
          "text": [
            "Found 13 invalid labels [nan nan nan nan nan nan nan nan nan nan nan nan nan] at indices [41, 42, 43, 44, 45, 46, 47, 48, 49, 50, 51, 52, 158]\n",
            "To turn validation off, use dataloader.read_csv(..., validate=False).\n"
          ]
        }
      ],
      "source": [
        "from gauche.dataloader import MolPropLoader\n",
        "\n",
        "# load a benchmark dataset\n",
        "loader = MolPropLoader()\n",
        "loader.load_benchmark(\"Photoswitch\")"
      ]
    },
    {
      "cell_type": "markdown",
      "id": "0c50cec1",
      "metadata": {
        "id": "0c50cec1"
      },
      "source": [
        "\n",
        "As you can see, the dataloader automatically runs a validation function that filters out invalid SMILES strings and non-numeric labels. The valid and canonicalised SMILES strings and labels are now stored in the `loader.features` and `loader.labels` attributes."
      ]
    },
    {
      "cell_type": "code",
      "execution_count": 20,
      "id": "bdfe1f50",
      "metadata": {
        "colab": {
          "base_uri": "https://localhost:8080/",
          "height": 191
        },
        "id": "bdfe1f50",
        "outputId": "e7f0763b-1dd6-4223-a742-ce8c81ac4b6c"
      },
      "outputs": [
        {
          "data": {
            "text/plain": [
              "['Cn1nnc(N=Nc2ccccc2)n1',\n",
              " 'Cn1cnc(N=Nc2ccccc2)n1',\n",
              " 'Cn1ccc(N=Nc2ccccc2)n1',\n",
              " 'Cc1cn(C)nc1N=Nc1ccccc1',\n",
              " 'Cn1cc(N=Nc2ccccc2)cn1']"
            ]
          },
          "metadata": {},
          "output_type": "display_data"
        },
        {
          "data": {
            "text/plain": [
              "array([[310.],\n",
              "       [310.],\n",
              "       [320.],\n",
              "       [325.],\n",
              "       [328.]])"
            ]
          },
          "metadata": {},
          "output_type": "display_data"
        }
      ],
      "source": [
        "display(loader.features[:5])\n",
        "display(loader.labels[:5])"
      ]
    },
    {
      "cell_type": "markdown",
      "id": "64ba2e12",
      "metadata": {
        "id": "64ba2e12"
      },
      "source": [
        "We can now use the `loader.featurize` function to featurise the molecules. These featurisers are simply functions that take a list of SMILES strings and return a list of feature vectors. GAUCHE comes with a number of built-in featurisers that you can use:\n",
        "\n",
        "* `ecfp_fingerprints`: Extended Connectivity Fingerprints (ECFP) that encode all circular substructures up to a certain diameter.\n",
        "* `fragments`: A featuriser that encodes the presence of a number of predefined rdkit fragments.\n",
        "* `ecfp_fragprints`: A combination of `ecfp_fingerprints` and `fragments`.\n",
        "* `molecular_graphs`: A featuriser that encodes the molecular graph as a graph of atoms and bonds.\n",
        "* `bag_of_smiles`: A featuriser that encodes the SMILES strings as a bag of characters.\n",
        "* `bag_of_selfies`: A featuriser that encodes the SMILES strings as a bag of SELFIES characters.\n",
        "\n",
        "When calling the `loader.featurize` function, we can additionally specify a range of keyword arguments that are passed to the featuriser. For example, we can specify the diameter of the ECFP fingerprints or the maximum number of fragments to encode. For a full list of keyword arguments, please refer to the [documentation](https://leojklarner.github.io/gauche/modules/representations.html)."
      ]
    },
    {
      "cell_type": "code",
      "execution_count": 21,
      "id": "646d0e5d-f103-463a-86a8-4f8603af1acd",
      "metadata": {
        "colab": {
          "base_uri": "https://localhost:8080/"
        },
        "id": "646d0e5d-f103-463a-86a8-4f8603af1acd",
        "outputId": "cd78c29e-8b28-4a73-df19-b57b9bfd5357"
      },
      "outputs": [
        {
          "data": {
            "text/plain": [
              "array([[0, 0, 0, ..., 0, 0, 0],\n",
              "       [0, 0, 0, ..., 0, 0, 0],\n",
              "       [0, 0, 0, ..., 0, 0, 0],\n",
              "       [0, 0, 0, ..., 0, 0, 0],\n",
              "       [0, 0, 0, ..., 0, 0, 0]])"
            ]
          },
          "execution_count": 21,
          "metadata": {},
          "output_type": "execute_result"
        }
      ],
      "source": [
        "loader.featurize(\"ecfp_fingerprints\")\n",
        "loader.features[:5]"
      ]
    },
    {
      "cell_type": "markdown",
      "id": "ecd5f08d",
      "metadata": {
        "id": "ecd5f08d"
      },
      "source": [
        "We can also pass any custom featuriser that maps a list of SMILES strings to a list of feature vectors. For example, we can just return the length of the SMILES strings as a feature vector:"
      ]
    },
    {
      "cell_type": "code",
      "execution_count": 22,
      "id": "7229fa2a-4db5-42c8-8e55-6819aa40db47",
      "metadata": {
        "colab": {
          "base_uri": "https://localhost:8080/"
        },
        "id": "7229fa2a-4db5-42c8-8e55-6819aa40db47",
        "outputId": "8a1031d0-3b5e-41cd-b35a-521e8a2430bf"
      },
      "outputs": [
        {
          "name": "stdout",
          "output_type": "stream",
          "text": [
            "Found 13 invalid labels [nan nan nan nan nan nan nan nan nan nan nan nan nan] at indices [41, 42, 43, 44, 45, 46, 47, 48, 49, 50, 51, 52, 158]\n",
            "To turn validation off, use dataloader.read_csv(..., validate=False).\n"
          ]
        },
        {
          "data": {
            "text/plain": [
              "[21, 21, 21, 22, 21]"
            ]
          },
          "execution_count": 22,
          "metadata": {},
          "output_type": "execute_result"
        }
      ],
      "source": [
        "# load dataset again to undo featurisation\n",
        "loader = MolPropLoader()\n",
        "loader.load_benchmark(\"Photoswitch\")\n",
        "\n",
        "# define custom featurisation function\n",
        "def smiles_length(smiles):\n",
        "    return [len(s) for s in smiles]\n",
        "\n",
        "loader.featurize(smiles_length)\n",
        "loader.features[:5]"
      ]
    },
    {
      "cell_type": "markdown",
      "id": "bd2c9f11",
      "metadata": {
        "id": "bd2c9f11"
      },
      "source": [
        "This was all we needed to do to load and featurise our dataset. The featurised molecules are now stored in the `loader.features` attribute and can be passed to the GP models."
      ]
    },
    {
      "cell_type": "markdown",
      "id": "75f439ff",
      "metadata": {
        "id": "75f439ff"
      },
      "source": [
        "## Reaction Yield Prediction\n",
        "\n",
        "The [ReactionYieldLoader class](https://leojklarner.github.io/gauche/modules/dataloader.html#module-gauche.dataloader.reaction_loader) provides a range of useful helper function for loading and featurising reaction yield prediction datasets. The reaction data can be provided as either multple SMILES columns or a single reaction SMARTS column. It comes with a number of built-in datasets that you can use to test your models:\n",
        "\n",
        "* `DreherDoyle`: Data from [Predicting reaction performance in C–N cross-coupling using machine learning. Science, 2018.](https://www.science.org/doi/10.1126/science.aar5169) as multiple SMILES columns. The task is to predict the yields for 3955 Pd-catalysed Buchwald–Hartwig C–N cross-couplings.\n",
        "* `DreherDoyleRXN`: The `DreherDoyle` dataset as a single reaction SMARTS column.\n",
        "* `Suzuki-Miyaura`: Data from [A platform for automated nanomole-scale\n",
        "reaction screening and micromole-scale synthesis in flow. Science, 2018](https://www.science.org/doi/10.1126/science.aap9112). The task is to predict the yields for 5760 Pd-catalysed Suzuki-Miyaura C-C cross-couplings.\n",
        "* `Suzuki-MiyauraRXN`: The `Suzuki-Miyaura` dataset as a single reaction SMARTS column.\n",
        "\n",
        "You can load them by calling the `load_benchmark` function with the corresponding argument. Alternatively, you can simply load your own dataset by calling the `read_csv(path, reactant_column, label_column)` with the path to your dataset and the name of your label column instead. The `reactant_column` argument can either be a single reaction SMARTS column or a list of SMILES columns."
      ]
    },
    {
      "cell_type": "code",
      "execution_count": 23,
      "id": "0e587b0a-13bf-4164-bf30-871871ea8e7f",
      "metadata": {
        "colab": {
          "base_uri": "https://localhost:8080/",
          "height": 208
        },
        "id": "0e587b0a-13bf-4164-bf30-871871ea8e7f",
        "outputId": "dc9a99bf-b87b-497f-fcc1-5aa3b9b76160"
      },
      "outputs": [
        {
          "data": {
            "text/plain": [
              "0    Clc1ccccn1.Cc1ccc(N)cc1.O=S(=O)(O[#46]1c2ccccc...\n",
              "1    Brc1ccccn1.Cc1ccc(N)cc1.O=S(=O)(O[#46]1c2ccccc...\n",
              "2    CCc1ccc(I)cc1.Cc1ccc(N)cc1.O=S(=O)(O[#46]1c2cc...\n",
              "3    FC(F)(F)c1ccc(Cl)cc1.Cc1ccc(N)cc1.O=S(=O)(O[#4...\n",
              "4    COc1ccc(Cl)cc1.Cc1ccc(N)cc1.O=S(=O)(O[#46]1c2c...\n",
              "Name: rxn, dtype: object"
            ]
          },
          "metadata": {},
          "output_type": "display_data"
        },
        {
          "data": {
            "text/plain": [
              "array([[70.41045785],\n",
              "       [11.06445724],\n",
              "       [10.22354965],\n",
              "       [20.0833829 ],\n",
              "       [ 0.49266271]])"
            ]
          },
          "execution_count": 23,
          "metadata": {},
          "output_type": "execute_result"
        }
      ],
      "source": [
        "from gauche.dataloader import ReactionLoader\n",
        "\n",
        "# load a benchmark dataset\n",
        "loader = ReactionLoader()\n",
        "loader.load_benchmark(\"DreherDoyleRXN\")\n",
        "\n",
        "display(loader.features[:5])\n",
        "loader.labels[:5]"
      ]
    },
    {
      "cell_type": "markdown",
      "id": "c8e4a530",
      "metadata": {
        "id": "c8e4a530"
      },
      "source": [
        "We can now use the `loader.featurize` function to featurise the SMILES/SMARTS. GAUCHE comes with a number of built-in featurisers that you can use:\n",
        "\n",
        "* `ohe`: A one-hot encoding that specifies which of the components in the different reactant\n",
        "and reagent categories is present. In the Buchwald-Hartwig example, the OHE would describe which of the aryl halides, Buchwald ligands, bases and additives are used in the reaction\n",
        "* `drfp`: The [differential reaction fingerprint](https://github.com/reymond-group/drfp); constructed by taking the symmetric difference of the sets containing the molecular substructures on both sides of the reaction arrow. Reagents are added to the reactants. (Only works for reaction SMARTS).\n",
        "* `rxnfp`: A [data-driven reaction fingerprint](https://github.com/rxn4chemistry/rxnfp) using Transformer models such as BERT and trained in a supervised or an unsupervised fashion on reaction SMILES. (Only works for reaction SMARTS).\n",
        "* `bag_of_smiles`: A bag of characters representation of the reaction SMARTS. (Only works for reaction SMARTS).\n",
        "\n",
        "When calling the `loader.featurize` function, we can additionally specify a range of keyword arguments that are passed to the featuriser. For a full list of keyword arguments, please refer to the [documentation](https://leojklarner.github.io/gauche/modules/representations.html).\n",
        "\n",
        "If drfp requirement is not satisfied you can run\n",
        "\n",
        "`!pip install drfp`\n",
        "\n",
        "in the next cell."
      ]
    },
    {
      "cell_type": "code",
      "execution_count": 24,
      "id": "8abbece0-7e69-449f-9bee-defa7674d1fa",
      "metadata": {
        "colab": {
          "base_uri": "https://localhost:8080/"
        },
        "id": "8abbece0-7e69-449f-9bee-defa7674d1fa",
        "outputId": "7b5c54c3-b2fc-4de3-d75c-64ca1af9186a"
      },
      "outputs": [
        {
          "data": {
            "text/plain": [
              "array([[0., 0., 0., ..., 1., 0., 0.],\n",
              "       [0., 0., 0., ..., 0., 0., 0.],\n",
              "       [0., 0., 0., ..., 0., 0., 0.],\n",
              "       [0., 0., 0., ..., 0., 0., 0.],\n",
              "       [0., 0., 0., ..., 1., 0., 0.]])"
            ]
          },
          "execution_count": 24,
          "metadata": {},
          "output_type": "execute_result"
        }
      ],
      "source": [
        "loader.featurize(\"drfp\")\n",
        "loader.features[:5]"
      ]
    },
    {
      "cell_type": "markdown",
      "id": "00c5c3d9-c795-464d-a600-756db624aeaf",
      "metadata": {
        "id": "00c5c3d9-c795-464d-a600-756db624aeaf"
      },
      "source": [
        "We can again pass any custom featuriser that maps a list of SMILES or a reaction SMARTS string to a list of feature vectors. For example, we can take the length of of the reaction SMARTS string."
      ]
    },
    {
      "cell_type": "code",
      "execution_count": 26,
      "id": "d51a91f6-529a-4b01-9ef6-0f39d27d9959",
      "metadata": {
        "colab": {
          "base_uri": "https://localhost:8080/"
        },
        "id": "d51a91f6-529a-4b01-9ef6-0f39d27d9959",
        "outputId": "7952f9c8-907c-41cb-8c43-1e241c71c609"
      },
      "outputs": [
        {
          "data": {
            "text/plain": [
              "[274, 277, 212, 207, 257]"
            ]
          },
          "execution_count": 26,
          "metadata": {},
          "output_type": "execute_result"
        }
      ],
      "source": [
        "# load dataset again to undo featurisation\n",
        "loader = ReactionLoader()\n",
        "loader.load_benchmark(\"DreherDoyleRXN\")\n",
        "\n",
        "# define custom featurisation function\n",
        "def smiles_length(smiles):\n",
        "    return [len(s) for s in smiles]\n",
        "\n",
        "loader.featurize(smiles_length)\n",
        "loader.features[:5]"
      ]
    }
  ],
  "metadata": {
    "accelerator": "GPU",
    "colab": {
      "gpuType": "T4",
      "include_colab_link": true,
      "provenance": []
    },
    "kernelspec": {
      "display_name": "Python 3",
      "name": "python3"
    },
    "language_info": {
      "codemirror_mode": {
        "name": "ipython",
        "version": 3
      },
      "file_extension": ".py",
      "mimetype": "text/x-python",
      "name": "python",
      "nbconvert_exporter": "python",
      "pygments_lexer": "ipython3",
      "version": "3.11.6"
    }
  },
  "nbformat": 4,
  "nbformat_minor": 5
}
